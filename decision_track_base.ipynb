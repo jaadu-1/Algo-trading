{
  "metadata": {
    "kernelspec": {
      "language": "python",
      "display_name": "Python 3",
      "name": "python3"
    },
    "language_info": {
      "name": "python",
      "version": "3.11.11",
      "mimetype": "text/x-python",
      "codemirror_mode": {
        "name": "ipython",
        "version": 3
      },
      "pygments_lexer": "ipython3",
      "nbconvert_exporter": "python",
      "file_extension": ".py"
    },
    "kaggle": {
      "accelerator": "none",
      "dataSources": [
        {
          "sourceId": 12343259,
          "sourceType": "datasetVersion",
          "datasetId": 7781363
        },
        {
          "sourceId": 12348534,
          "sourceType": "datasetVersion",
          "datasetId": 7784824
        }
      ],
      "dockerImageVersionId": 31040,
      "isInternetEnabled": false,
      "language": "python",
      "sourceType": "notebook",
      "isGpuEnabled": false
    },
    "colab": {
      "name": "decision_track_base",
      "provenance": [],
      "include_colab_link": true
    }
  },
  "nbformat_minor": 0,
  "nbformat": 4,
  "cells": [
    {
      "cell_type": "markdown",
      "metadata": {
        "id": "view-in-github",
        "colab_type": "text"
      },
      "source": [
        "<a href=\"https://colab.research.google.com/github/jaadu-1/Algo-trading/blob/main/decision_track_base.ipynb\" target=\"_parent\"><img src=\"https://colab.research.google.com/assets/colab-badge.svg\" alt=\"Open In Colab\"/></a>"
      ]
    },
    {
      "source": [
        "# IMPORTANT: SOME KAGGLE DATA SOURCES ARE PRIVATE\n",
        "# RUN THIS CELL IN ORDER TO IMPORT YOUR KAGGLE DATA SOURCES.\n",
        "import kagglehub\n",
        "kagglehub.login()\n"
      ],
      "metadata": {
        "id": "YnqTDJfqlIX-"
      },
      "cell_type": "code",
      "outputs": [],
      "execution_count": null
    },
    {
      "source": [
        "# IMPORTANT: RUN THIS CELL IN ORDER TO IMPORT YOUR KAGGLE DATA SOURCES,\n",
        "# THEN FEEL FREE TO DELETE THIS CELL.\n",
        "# NOTE: THIS NOTEBOOK ENVIRONMENT DIFFERS FROM KAGGLE'S PYTHON\n",
        "# ENVIRONMENT SO THERE MAY BE MISSING LIBRARIES USED BY YOUR\n",
        "# NOTEBOOK.\n",
        "\n",
        "krish39696_decision_track_path = kagglehub.dataset_download('krish39696/decision-track')\n",
        "krish39696_krish_data_path = kagglehub.dataset_download('krish39696/krish-data')\n",
        "\n",
        "print('Data source import complete.')\n"
      ],
      "metadata": {
        "id": "pCH8Za2ulIX_"
      },
      "cell_type": "code",
      "outputs": [],
      "execution_count": null
    },
    {
      "cell_type": "code",
      "source": [
        "!pip install lightgbm\n",
        "\n",
        "import pandas as pd\n",
        "import pyarrow.parquet as pq\n",
        "import lightgbm as lgb\n",
        "from sklearn.model_selection import train_test_split\n",
        "from sklearn.metrics import roc_auc_score"
      ],
      "metadata": {
        "_uuid": "8f2839f25d086af736a60e9eeb907d3b93b6e0e5",
        "_cell_guid": "b1076dfc-b9ad-4769-8c92-a6c4dae69d19",
        "trusted": true,
        "execution": {
          "iopub.status.busy": "2025-07-02T17:58:56.736123Z",
          "iopub.execute_input": "2025-07-02T17:58:56.736365Z",
          "iopub.status.idle": "2025-07-02T17:59:08.548496Z",
          "shell.execute_reply.started": "2025-07-02T17:58:56.736344Z",
          "shell.execute_reply": "2025-07-02T17:59:08.547548Z"
        },
        "id": "AvRyysaglIYA",
        "outputId": "9918bfb3-b864-40b3-d66c-6159f5fd5dd7"
      },
      "outputs": [
        {
          "name": "stdout",
          "text": "Requirement already satisfied: lightgbm in /usr/local/lib/python3.11/dist-packages (4.5.0)\nRequirement already satisfied: numpy>=1.17.0 in /usr/local/lib/python3.11/dist-packages (from lightgbm) (1.26.4)\nRequirement already satisfied: scipy in /usr/local/lib/python3.11/dist-packages (from lightgbm) (1.15.2)\nRequirement already satisfied: mkl_fft in /usr/local/lib/python3.11/dist-packages (from numpy>=1.17.0->lightgbm) (1.3.8)\nRequirement already satisfied: mkl_random in /usr/local/lib/python3.11/dist-packages (from numpy>=1.17.0->lightgbm) (1.2.4)\nRequirement already satisfied: mkl_umath in /usr/local/lib/python3.11/dist-packages (from numpy>=1.17.0->lightgbm) (0.1.1)\nRequirement already satisfied: mkl in /usr/local/lib/python3.11/dist-packages (from numpy>=1.17.0->lightgbm) (2025.1.0)\nRequirement already satisfied: tbb4py in /usr/local/lib/python3.11/dist-packages (from numpy>=1.17.0->lightgbm) (2022.1.0)\nRequirement already satisfied: mkl-service in /usr/local/lib/python3.11/dist-packages (from numpy>=1.17.0->lightgbm) (2.4.1)\nRequirement already satisfied: intel-openmp<2026,>=2024 in /usr/local/lib/python3.11/dist-packages (from mkl->numpy>=1.17.0->lightgbm) (2024.2.0)\nRequirement already satisfied: tbb==2022.* in /usr/local/lib/python3.11/dist-packages (from mkl->numpy>=1.17.0->lightgbm) (2022.1.0)\nRequirement already satisfied: tcmlib==1.* in /usr/local/lib/python3.11/dist-packages (from tbb==2022.*->mkl->numpy>=1.17.0->lightgbm) (1.3.0)\nRequirement already satisfied: intel-cmplr-lib-rt in /usr/local/lib/python3.11/dist-packages (from mkl_umath->numpy>=1.17.0->lightgbm) (2024.2.0)\nRequirement already satisfied: intel-cmplr-lib-ur==2024.2.0 in /usr/local/lib/python3.11/dist-packages (from intel-openmp<2026,>=2024->mkl->numpy>=1.17.0->lightgbm) (2024.2.0)\n",
          "output_type": "stream"
        }
      ],
      "execution_count": null
    },
    {
      "cell_type": "code",
      "source": [
        "# Base data path\n",
        "DATA_PATH = \"/kaggle/input/krish-data\"\n"
      ],
      "metadata": {
        "trusted": true,
        "execution": {
          "iopub.status.busy": "2025-07-02T18:02:04.162505Z",
          "iopub.execute_input": "2025-07-02T18:02:04.162799Z",
          "iopub.status.idle": "2025-07-02T18:02:04.167721Z",
          "shell.execute_reply.started": "2025-07-02T18:02:04.162779Z",
          "shell.execute_reply": "2025-07-02T18:02:04.166532Z"
        },
        "id": "MLgc2uoAlIYB"
      },
      "outputs": [],
      "execution_count": null
    },
    {
      "cell_type": "code",
      "source": [
        "# Core datasets\n",
        "train = pd.read_parquet(f\"{DATA_PATH}/train_data.parquet\")\n",
        "test = pd.read_parquet(f\"{DATA_PATH}/test_data.parquet\")\n",
        "submission = pd.read_csv(f\"{DATA_PATH}/685404e30cfdb_submission_template.csv\")\n",
        "\n",
        "# Supplementary files\n",
        "events = pd.read_parquet(f\"{DATA_PATH}/add_event.parquet\")\n",
        "offers = pd.read_parquet(f\"{DATA_PATH}/offer_metadata.parquet\")\n",
        "data_dict = pd.read_csv(f\"{DATA_PATH}/data_dictionary.csv\")\n",
        "\n",
        "# This file was uploaded separately\n",
        "transactions = pd.read_parquet(\"/kaggle/input/krish-data/add_trans.parquet\")\n",
        "\n",
        "print(\"✅ All 7 datasets loaded successfully.\")\n"
      ],
      "metadata": {
        "trusted": true,
        "execution": {
          "iopub.status.busy": "2025-07-02T18:04:04.615031Z",
          "iopub.execute_input": "2025-07-02T18:04:04.615443Z",
          "iopub.status.idle": "2025-07-02T18:04:48.305557Z",
          "shell.execute_reply.started": "2025-07-02T18:04:04.615414Z",
          "shell.execute_reply": "2025-07-02T18:04:48.304738Z"
        },
        "id": "7MKsP03AlIYB",
        "outputId": "5f67a4fd-92d8-44a3-9702-9e07af24cdfa"
      },
      "outputs": [
        {
          "name": "stdout",
          "text": "✅ All 7 datasets loaded successfully.\n",
          "output_type": "stream"
        }
      ],
      "execution_count": null
    },
    {
      "cell_type": "code",
      "source": [
        "print(\"Train:\", train.shape)\n",
        "print(\"Test:\", test.shape)\n",
        "print(\"Events:\", events.shape)\n",
        "print(\"Offers:\", offers.shape)\n",
        "print(\"Transactions:\", transactions.shape)\n",
        "print(\"Submission template:\", submission.shape)\n",
        "print(\"Data Dictionary:\", data_dict.shape)\n"
      ],
      "metadata": {
        "trusted": true,
        "execution": {
          "iopub.status.busy": "2025-07-02T18:06:05.724445Z",
          "iopub.execute_input": "2025-07-02T18:06:05.724848Z",
          "iopub.status.idle": "2025-07-02T18:06:05.731654Z",
          "shell.execute_reply.started": "2025-07-02T18:06:05.724822Z",
          "shell.execute_reply": "2025-07-02T18:06:05.730515Z"
        },
        "id": "RkPY3trJlIYB",
        "outputId": "03dc2a21-8836-4a41-8e09-33bfecfba5d5"
      },
      "outputs": [
        {
          "name": "stdout",
          "text": "Train: (770164, 372)\nTest: (369301, 371)\nEvents: (21457473, 5)\nOffers: (4164, 12)\nTransactions: (6339465, 9)\nSubmission template: (369301, 5)\nData Dictionary: (372, 3)\n",
          "output_type": "stream"
        }
      ],
      "execution_count": null
    },
    {
      "cell_type": "code",
      "source": [
        "print(\"\\nEvents Columns:\\n\", events.columns.tolist())\n",
        "print(\"\\nTransactions Columns:\\n\", transactions.columns.tolist())\n",
        "print(\"\\nOffers Columns:\\n\", offers.columns.tolist())\n",
        "print(\"\\nSubmission Columns:\\n\", submission.columns.tolist())\n"
      ],
      "metadata": {
        "trusted": true,
        "execution": {
          "iopub.status.busy": "2025-07-02T18:09:33.493046Z",
          "iopub.execute_input": "2025-07-02T18:09:33.494176Z",
          "iopub.status.idle": "2025-07-02T18:09:33.500202Z",
          "shell.execute_reply.started": "2025-07-02T18:09:33.494133Z",
          "shell.execute_reply": "2025-07-02T18:09:33.498692Z"
        },
        "id": "OTgH2ipklIYC",
        "outputId": "70b32970-f8bd-4dbe-a9c5-2952996d7e5f"
      },
      "outputs": [
        {
          "name": "stdout",
          "text": "\nEvents Columns:\n ['id2', 'id3', 'id6', 'id4', 'id7']\n\nTransactions Columns:\n ['id2', 'f367', 'f368', 'f369', 'f370', 'f371', 'f372', 'id8', 'f374']\n\nOffers Columns:\n ['id3', 'id9', 'f375', 'f376', 'f377', 'id10', 'id11', 'f378', 'f374', 'id8', 'id12', 'id13']\n\nSubmission Columns:\n ['id1', 'id2', 'id3', 'id5', 'pred']\n",
          "output_type": "stream"
        }
      ],
      "execution_count": null
    },
    {
      "cell_type": "code",
      "source": [
        "print(\"\\nSample from Events:\\n\", events.head())\n",
        "print(\"\\nSample from Transactions:\\n\", transactions.head())\n",
        "print(\"\\nSample from Offers:\\n\", offers.head())\n"
      ],
      "metadata": {
        "trusted": true,
        "execution": {
          "iopub.status.busy": "2025-07-02T18:15:00.006111Z",
          "iopub.execute_input": "2025-07-02T18:15:00.00657Z",
          "iopub.status.idle": "2025-07-02T18:15:00.032522Z",
          "shell.execute_reply.started": "2025-07-02T18:15:00.006545Z",
          "shell.execute_reply": "2025-07-02T18:15:00.031572Z"
        },
        "id": "cIJY08iHlIYC",
        "outputId": "bb041544-72c6-429b-bf66-42cd06068c5a"
      },
      "outputs": [
        {
          "name": "stdout",
          "text": "\nSample from Events:\n        id2     id3    id6                      id4   id7\n0  2431360  618619  Tiles  2023-10-22 08:08:17.768  None\n1  2431360  363153  Tiles  2023-10-22 08:08:18.921  None\n2  2431360   97193  Tiles  2023-10-22 08:08:17.765  None\n3  2431360  654444  Tiles  2023-10-22 08:08:17.737  None\n4  2431360   32325  Tiles  2023-10-22 08:08:17.812  None\n\nSample from Transactions:\n        id2   f367 f368 f369        f370      f371    f372       id8 f374\n0  2896709  15.60  PBR    D  2023-10-16  19:16:52  202310  59639998  DSE\n1  2855047   6.40   PR    D  2023-10-14  13:01:16  202310  59639998  DSE\n2  2497175  13.99  PBR    D  2023-10-14  00:31:48  202310  59639998  DSE\n3  2655364  15.14  PGC    D  2023-10-13  12:37:25  202310  59639998  DSE\n4  2855047   2.12   PR    D  2023-10-09  16:51:21  202310  59639998  DSE\n\nSample from Offers:\n          id3   id9  f375   f376  f377 id10  id11 f378  f374   id8  \\\n0      70687  FO5O     2    5.0  None    1  None    N  None  None   \n1  900002526   UGE     2  100.0  None    1  None    N  None  None   \n2  900002864   UTP     1  100.0  None    1  None    N  None  None   \n3      19508     o     2    NaN  None    1  None    N  None  None   \n4      35903     o     2    NaN  None    1  None    N  None  None   \n\n                  id12                 id13  \n0  2018-01-01 00:00:00  2099-12-31 23:59:59  \n1  2014-10-20 00:00:00  2099-12-31 23:59:59  \n2  2016-07-19 00:00:00  2099-12-31 23:59:59  \n3  2019-06-02 17:00:00  2028-12-31 16:59:59  \n4  2019-06-02 17:00:00  2028-12-31 16:59:59  \n",
          "output_type": "stream"
        },
        {
          "name": "stderr",
          "text": "/usr/local/lib/python3.11/dist-packages/pandas/io/formats/format.py:1458: RuntimeWarning: invalid value encountered in greater\n  has_large_values = (abs_vals > 1e6).any()\n/usr/local/lib/python3.11/dist-packages/pandas/io/formats/format.py:1459: RuntimeWarning: invalid value encountered in less\n  has_small_values = ((abs_vals < 10 ** (-self.digits)) & (abs_vals > 0)).any()\n/usr/local/lib/python3.11/dist-packages/pandas/io/formats/format.py:1459: RuntimeWarning: invalid value encountered in greater\n  has_small_values = ((abs_vals < 10 ** (-self.digits)) & (abs_vals > 0)).any()\n",
          "output_type": "stream"
        }
      ],
      "execution_count": null
    },
    {
      "cell_type": "code",
      "source": [
        "print(\"Train Columns:\\n\", train.columns.tolist())\n",
        "print(\"\\nTest Columns:\\n\", test.columns.tolist())"
      ],
      "metadata": {
        "trusted": true,
        "execution": {
          "iopub.status.busy": "2025-07-02T18:26:45.863767Z",
          "iopub.execute_input": "2025-07-02T18:26:45.864147Z",
          "iopub.status.idle": "2025-07-02T18:26:45.870198Z",
          "shell.execute_reply.started": "2025-07-02T18:26:45.86412Z",
          "shell.execute_reply": "2025-07-02T18:26:45.868997Z"
        },
        "id": "v_tfMpfjlIYD",
        "outputId": "a72ef800-01cf-4e11-8eb1-a00755205ba4"
      },
      "outputs": [
        {
          "name": "stdout",
          "text": "Train Columns:\n ['id1', 'id2', 'id3', 'id4', 'id5', 'y', 'f1', 'f2', 'f3', 'f4', 'f5', 'f6', 'f7', 'f8', 'f9', 'f10', 'f11', 'f12', 'f13', 'f14', 'f15', 'f16', 'f17', 'f18', 'f19', 'f20', 'f21', 'f22', 'f23', 'f24', 'f25', 'f26', 'f27', 'f28', 'f29', 'f30', 'f31', 'f32', 'f33', 'f34', 'f35', 'f36', 'f37', 'f38', 'f39', 'f40', 'f41', 'f42', 'f43', 'f44', 'f45', 'f46', 'f47', 'f48', 'f49', 'f50', 'f51', 'f52', 'f53', 'f54', 'f55', 'f56', 'f57', 'f58', 'f59', 'f60', 'f61', 'f62', 'f63', 'f64', 'f65', 'f66', 'f67', 'f68', 'f69', 'f70', 'f71', 'f72', 'f73', 'f74', 'f75', 'f76', 'f77', 'f78', 'f79', 'f80', 'f81', 'f82', 'f83', 'f84', 'f85', 'f86', 'f87', 'f88', 'f89', 'f90', 'f91', 'f92', 'f93', 'f94', 'f95', 'f96', 'f97', 'f98', 'f99', 'f100', 'f101', 'f102', 'f103', 'f104', 'f105', 'f106', 'f107', 'f108', 'f109', 'f110', 'f111', 'f112', 'f113', 'f114', 'f115', 'f116', 'f117', 'f118', 'f119', 'f120', 'f121', 'f122', 'f123', 'f124', 'f125', 'f126', 'f127', 'f128', 'f129', 'f130', 'f131', 'f132', 'f133', 'f134', 'f135', 'f136', 'f137', 'f138', 'f139', 'f140', 'f141', 'f142', 'f143', 'f144', 'f145', 'f146', 'f147', 'f148', 'f149', 'f150', 'f151', 'f152', 'f153', 'f154', 'f155', 'f156', 'f157', 'f158', 'f159', 'f160', 'f161', 'f162', 'f163', 'f164', 'f165', 'f166', 'f167', 'f168', 'f169', 'f170', 'f171', 'f172', 'f173', 'f174', 'f175', 'f176', 'f177', 'f178', 'f179', 'f180', 'f181', 'f182', 'f183', 'f184', 'f185', 'f186', 'f187', 'f188', 'f189', 'f190', 'f191', 'f192', 'f193', 'f194', 'f195', 'f196', 'f197', 'f198', 'f199', 'f200', 'f201', 'f202', 'f203', 'f204', 'f205', 'f206', 'f207', 'f208', 'f209', 'f210', 'f211', 'f212', 'f213', 'f214', 'f215', 'f216', 'f217', 'f218', 'f219', 'f220', 'f221', 'f222', 'f223', 'f224', 'f225', 'f226', 'f227', 'f228', 'f229', 'f230', 'f231', 'f232', 'f233', 'f234', 'f235', 'f236', 'f237', 'f238', 'f239', 'f240', 'f241', 'f242', 'f243', 'f244', 'f245', 'f246', 'f247', 'f248', 'f249', 'f250', 'f251', 'f252', 'f253', 'f254', 'f255', 'f256', 'f257', 'f258', 'f259', 'f260', 'f261', 'f262', 'f263', 'f264', 'f265', 'f266', 'f267', 'f268', 'f269', 'f270', 'f271', 'f272', 'f273', 'f274', 'f275', 'f276', 'f277', 'f278', 'f279', 'f280', 'f281', 'f282', 'f283', 'f284', 'f285', 'f286', 'f287', 'f288', 'f289', 'f290', 'f291', 'f292', 'f293', 'f294', 'f295', 'f296', 'f297', 'f298', 'f299', 'f300', 'f301', 'f302', 'f303', 'f304', 'f305', 'f306', 'f307', 'f308', 'f309', 'f310', 'f311', 'f312', 'f313', 'f314', 'f315', 'f316', 'f317', 'f318', 'f319', 'f320', 'f321', 'f322', 'f323', 'f324', 'f325', 'f326', 'f327', 'f328', 'f329', 'f330', 'f331', 'f332', 'f333', 'f334', 'f335', 'f336', 'f337', 'f338', 'f339', 'f340', 'f341', 'f342', 'f343', 'f344', 'f345', 'f346', 'f347', 'f348', 'f349', 'f350', 'f351', 'f352', 'f353', 'f354', 'f355', 'f356', 'f357', 'f358', 'f359', 'f360', 'f361', 'f362', 'f363', 'f364', 'f365', 'f366']\n\nTest Columns:\n ['id1', 'id2', 'id3', 'id4', 'id5', 'f1', 'f2', 'f3', 'f4', 'f5', 'f6', 'f7', 'f8', 'f9', 'f10', 'f11', 'f12', 'f13', 'f14', 'f15', 'f16', 'f17', 'f18', 'f19', 'f20', 'f21', 'f22', 'f23', 'f24', 'f25', 'f26', 'f27', 'f28', 'f29', 'f30', 'f31', 'f32', 'f33', 'f34', 'f35', 'f36', 'f37', 'f38', 'f39', 'f40', 'f41', 'f42', 'f43', 'f44', 'f45', 'f46', 'f47', 'f48', 'f49', 'f50', 'f51', 'f52', 'f53', 'f54', 'f55', 'f56', 'f57', 'f58', 'f59', 'f60', 'f61', 'f62', 'f63', 'f64', 'f65', 'f66', 'f67', 'f68', 'f69', 'f70', 'f71', 'f72', 'f73', 'f74', 'f75', 'f76', 'f77', 'f78', 'f79', 'f80', 'f81', 'f82', 'f83', 'f84', 'f85', 'f86', 'f87', 'f88', 'f89', 'f90', 'f91', 'f92', 'f93', 'f94', 'f95', 'f96', 'f97', 'f98', 'f99', 'f100', 'f101', 'f102', 'f103', 'f104', 'f105', 'f106', 'f107', 'f108', 'f109', 'f110', 'f111', 'f112', 'f113', 'f114', 'f115', 'f116', 'f117', 'f118', 'f119', 'f120', 'f121', 'f122', 'f123', 'f124', 'f125', 'f126', 'f127', 'f128', 'f129', 'f130', 'f131', 'f132', 'f133', 'f134', 'f135', 'f136', 'f137', 'f138', 'f139', 'f140', 'f141', 'f142', 'f143', 'f144', 'f145', 'f146', 'f147', 'f148', 'f149', 'f150', 'f151', 'f152', 'f153', 'f154', 'f155', 'f156', 'f157', 'f158', 'f159', 'f160', 'f161', 'f162', 'f163', 'f164', 'f165', 'f166', 'f167', 'f168', 'f169', 'f170', 'f171', 'f172', 'f173', 'f174', 'f175', 'f176', 'f177', 'f178', 'f179', 'f180', 'f181', 'f182', 'f183', 'f184', 'f185', 'f186', 'f187', 'f188', 'f189', 'f190', 'f191', 'f192', 'f193', 'f194', 'f195', 'f196', 'f197', 'f198', 'f199', 'f200', 'f201', 'f202', 'f203', 'f204', 'f205', 'f206', 'f207', 'f208', 'f209', 'f210', 'f211', 'f212', 'f213', 'f214', 'f215', 'f216', 'f217', 'f218', 'f219', 'f220', 'f221', 'f222', 'f223', 'f224', 'f225', 'f226', 'f227', 'f228', 'f229', 'f230', 'f231', 'f232', 'f233', 'f234', 'f235', 'f236', 'f237', 'f238', 'f239', 'f240', 'f241', 'f242', 'f243', 'f244', 'f245', 'f246', 'f247', 'f248', 'f249', 'f250', 'f251', 'f252', 'f253', 'f254', 'f255', 'f256', 'f257', 'f258', 'f259', 'f260', 'f261', 'f262', 'f263', 'f264', 'f265', 'f266', 'f267', 'f268', 'f269', 'f270', 'f271', 'f272', 'f273', 'f274', 'f275', 'f276', 'f277', 'f278', 'f279', 'f280', 'f281', 'f282', 'f283', 'f284', 'f285', 'f286', 'f287', 'f288', 'f289', 'f290', 'f291', 'f292', 'f293', 'f294', 'f295', 'f296', 'f297', 'f298', 'f299', 'f300', 'f301', 'f302', 'f303', 'f304', 'f305', 'f306', 'f307', 'f308', 'f309', 'f310', 'f311', 'f312', 'f313', 'f314', 'f315', 'f316', 'f317', 'f318', 'f319', 'f320', 'f321', 'f322', 'f323', 'f324', 'f325', 'f326', 'f327', 'f328', 'f329', 'f330', 'f331', 'f332', 'f333', 'f334', 'f335', 'f336', 'f337', 'f338', 'f339', 'f340', 'f341', 'f342', 'f343', 'f344', 'f345', 'f346', 'f347', 'f348', 'f349', 'f350', 'f351', 'f352', 'f353', 'f354', 'f355', 'f356', 'f357', 'f358', 'f359', 'f360', 'f361', 'f362', 'f363', 'f364', 'f365', 'f366']\n",
          "output_type": "stream"
        }
      ],
      "execution_count": null
    },
    {
      "cell_type": "code",
      "source": [
        "print(\"\\nSample from Train:\\n\", train.head())"
      ],
      "metadata": {
        "trusted": true,
        "execution": {
          "iopub.status.busy": "2025-07-02T18:27:12.167044Z",
          "iopub.execute_input": "2025-07-02T18:27:12.168298Z",
          "iopub.status.idle": "2025-07-02T18:27:12.181199Z",
          "shell.execute_reply.started": "2025-07-02T18:27:12.168263Z",
          "shell.execute_reply": "2025-07-02T18:27:12.180041Z"
        },
        "id": "Les-d6ZslIYD",
        "outputId": "496cb941-04e5-4f69-fc17-df74b19c187c"
      },
      "outputs": [
        {
          "name": "stdout",
          "text": "\nSample from Train:\n                                                id1      id2        id3  \\\n0  1366776_189706075_16-23_2023-11-02 22:22:00.042  1366776  189706075   \n1      1366776_89227_16-23_2023-11-01 23:51:24.999  1366776      89227   \n2      1366776_35046_16-23_2023-11-01 00:30:59.797  1366776      35046   \n3    1366776_6275451_16-23_2023-11-02 22:21:32.261  1366776    6275451   \n4      1366776_78053_16-23_2023-11-02 22:21:34.799  1366776      78053   \n\n                       id4         id5  y   f1    f2    f3    f4  ...  f357  \\\n0  2023-11-02 22:22:00.042  2023-11-02  0  1.0  None  None  None  ...  None   \n1  2023-11-01 23:51:24.999  2023-11-01  0  1.0  None  None  None  ...  None   \n2  2023-11-01 00:30:59.797  2023-11-01  0  1.0  None  None  None  ...  None   \n3  2023-11-02 22:21:32.261  2023-11-02  0  1.0  None  None  None  ...  None   \n4  2023-11-02 22:21:34.799  2023-11-02  0  1.0  None  None  None  ...  None   \n\n      f358 f359  f360   f361 f362               f363    f364 f365  \\\n0  -9999.0  0.0  None   28.0  0.0                0.0   337.0  0.0   \n1     None  0.0  None   87.0  0.0                0.0  1010.0  2.0   \n2     None  0.0  None   23.0  0.0                0.0  1010.0  2.0   \n3  -9999.0  0.0  None  277.0  1.0  0.003610108303249   337.0  0.0   \n4  -9999.0  0.0  None  359.0  0.0                0.0   337.0  0.0   \n\n                 f366  \n0                 0.0  \n1  0.0019801980198019  \n2  0.0019801980198019  \n3                 0.0  \n4                 0.0  \n\n[5 rows x 372 columns]\n",
          "output_type": "stream"
        }
      ],
      "execution_count": null
    },
    {
      "cell_type": "code",
      "source": [
        "# ====================\n",
        "# STEP X: Preprocessing\n",
        "# ====================\n",
        "\n",
        "from sklearn.preprocessing import LabelEncoder\n",
        "\n",
        "# Separate column types\n",
        "num_cols = train.select_dtypes(include=['float64', 'int64']).columns\n",
        "cat_cols = train.select_dtypes(include=['object']).columns\n",
        "\n",
        "# Ensure we drop the target variable if it's in cat_cols\n",
        "if 'y' in cat_cols:\n",
        "    cat_cols = cat_cols.drop('y')\n",
        "\n",
        "# Handle numeric columns (fill missing with mean)\n",
        "for col in num_cols:\n",
        "    if col != 'y':  # don't fill target column\n",
        "        train[col] = train[col].fillna(train[col].mean())\n",
        "        test[col] = test[col].fillna(train[col].mean())\n",
        "\n",
        "# Handle categorical columns (label encoding)\n",
        "for col in cat_cols:\n",
        "    if col in test.columns:\n",
        "        le = LabelEncoder()\n",
        "        combined = pd.concat([train[col], test[col]], axis=0).astype(str)\n",
        "        le.fit(combined)\n",
        "        train[col] = le.transform(train[col].astype(str))\n",
        "        test[col] = le.transform(test[col].astype(str))\n",
        "    else:\n",
        "        print(f\"⚠️ Skipping {col} - not found in test set.\")\n",
        "\n",
        "print(\"✅ Preprocessing done.\")\n"
      ],
      "metadata": {
        "trusted": true,
        "execution": {
          "iopub.status.busy": "2025-07-02T18:42:59.250746Z",
          "iopub.execute_input": "2025-07-02T18:42:59.251107Z",
          "iopub.status.idle": "2025-07-02T18:45:22.666939Z",
          "shell.execute_reply.started": "2025-07-02T18:42:59.251083Z",
          "shell.execute_reply": "2025-07-02T18:45:22.665806Z"
        },
        "id": "33h6GciWlIYD",
        "outputId": "8b586b67-7781-4d3d-cd50-a0d1015692ae"
      },
      "outputs": [
        {
          "name": "stdout",
          "text": "✅ Preprocessing done.\n",
          "output_type": "stream"
        }
      ],
      "execution_count": null
    }
  ]
}