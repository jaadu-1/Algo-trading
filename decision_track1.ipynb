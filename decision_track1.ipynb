{
  "metadata": {
    "kernelspec": {
      "language": "python",
      "display_name": "Python 3",
      "name": "python3"
    },
    "language_info": {
      "name": "python",
      "version": "3.11.11",
      "mimetype": "text/x-python",
      "codemirror_mode": {
        "name": "ipython",
        "version": 3
      },
      "pygments_lexer": "ipython3",
      "nbconvert_exporter": "python",
      "file_extension": ".py"
    },
    "kaggle": {
      "accelerator": "none",
      "dataSources": [
        {
          "sourceId": 12343193,
          "sourceType": "datasetVersion",
          "datasetId": 7781321
        },
        {
          "sourceId": 12343259,
          "sourceType": "datasetVersion",
          "datasetId": 7781363
        },
        {
          "sourceId": 12343702,
          "sourceType": "datasetVersion",
          "datasetId": 7781671
        }
      ],
      "dockerImageVersionId": 31040,
      "isInternetEnabled": false,
      "language": "python",
      "sourceType": "notebook",
      "isGpuEnabled": false
    },
    "colab": {
      "name": "decision_track1",
      "provenance": [],
      "include_colab_link": true
    }
  },
  "nbformat_minor": 0,
  "nbformat": 4,
  "cells": [
    {
      "cell_type": "markdown",
      "metadata": {
        "id": "view-in-github",
        "colab_type": "text"
      },
      "source": [
        "<a href=\"https://colab.research.google.com/github/jaadu-1/Algo-trading/blob/main/decision_track1.ipynb\" target=\"_parent\"><img src=\"https://colab.research.google.com/assets/colab-badge.svg\" alt=\"Open In Colab\"/></a>"
      ]
    },
    {
      "source": [
        "# IMPORTANT: SOME KAGGLE DATA SOURCES ARE PRIVATE\n",
        "# RUN THIS CELL IN ORDER TO IMPORT YOUR KAGGLE DATA SOURCES.\n",
        "import kagglehub\n",
        "kagglehub.login()\n"
      ],
      "metadata": {
        "id": "cCPD1yzfNYaU"
      },
      "cell_type": "code",
      "outputs": [],
      "execution_count": null
    },
    {
      "source": [
        "# IMPORTANT: RUN THIS CELL IN ORDER TO IMPORT YOUR KAGGLE DATA SOURCES,\n",
        "# THEN FEEL FREE TO DELETE THIS CELL.\n",
        "# NOTE: THIS NOTEBOOK ENVIRONMENT DIFFERS FROM KAGGLE'S PYTHON\n",
        "# ENVIRONMENT SO THERE MAY BE MISSING LIBRARIES USED BY YOUR\n",
        "# NOTEBOOK.\n",
        "\n",
        "krish39696_decision_track_path = kagglehub.dataset_download('krish39696/decision-track')\n",
        "krish39696_submission_path = kagglehub.dataset_download('krish39696/submission')\n",
        "\n",
        "print('Data source import complete.')\n"
      ],
      "metadata": {
        "id": "Wstpe_NrNYaW"
      },
      "cell_type": "code",
      "outputs": [],
      "execution_count": null
    },
    {
      "cell_type": "code",
      "source": [
        "import os\n",
        "os.listdir(\"/kaggle/input\")\n"
      ],
      "metadata": {
        "_uuid": "8f2839f25d086af736a60e9eeb907d3b93b6e0e5",
        "_cell_guid": "b1076dfc-b9ad-4769-8c92-a6c4dae69d19",
        "trusted": true,
        "execution": {
          "iopub.status.busy": "2025-07-01T17:39:56.173257Z",
          "iopub.execute_input": "2025-07-01T17:39:56.173569Z",
          "iopub.status.idle": "2025-07-01T17:39:56.18106Z",
          "shell.execute_reply.started": "2025-07-01T17:39:56.173543Z",
          "shell.execute_reply": "2025-07-01T17:39:56.17999Z"
        },
        "id": "gPWpeUHINYaW",
        "outputId": "0bc4dbf5-61be-420f-feb3-ffa91cf96ccd"
      },
      "outputs": [
        {
          "execution_count": 3,
          "output_type": "execute_result",
          "data": {
            "text/plain": "['decision-track']"
          },
          "metadata": {}
        }
      ],
      "execution_count": null
    },
    {
      "cell_type": "code",
      "source": [
        "!pip install lightgbm\n",
        "\n",
        "import pandas as pd\n",
        "import pyarrow.parquet as pq\n",
        "import lightgbm as lgb\n",
        "from sklearn.model_selection import train_test_split\n",
        "from sklearn.metrics import roc_auc_score\n"
      ],
      "metadata": {
        "trusted": true,
        "execution": {
          "iopub.status.busy": "2025-07-01T17:39:58.652635Z",
          "iopub.execute_input": "2025-07-01T17:39:58.653302Z",
          "iopub.status.idle": "2025-07-01T17:40:08.036995Z",
          "shell.execute_reply.started": "2025-07-01T17:39:58.653274Z",
          "shell.execute_reply": "2025-07-01T17:40:08.036208Z"
        },
        "id": "9Cli0s4aNYaX",
        "outputId": "1bc07679-ba92-49c8-b5a1-800e6fd76390"
      },
      "outputs": [
        {
          "name": "stdout",
          "text": "Requirement already satisfied: lightgbm in /usr/local/lib/python3.11/dist-packages (4.5.0)\nRequirement already satisfied: numpy>=1.17.0 in /usr/local/lib/python3.11/dist-packages (from lightgbm) (1.26.4)\nRequirement already satisfied: scipy in /usr/local/lib/python3.11/dist-packages (from lightgbm) (1.15.2)\nRequirement already satisfied: mkl_fft in /usr/local/lib/python3.11/dist-packages (from numpy>=1.17.0->lightgbm) (1.3.8)\nRequirement already satisfied: mkl_random in /usr/local/lib/python3.11/dist-packages (from numpy>=1.17.0->lightgbm) (1.2.4)\nRequirement already satisfied: mkl_umath in /usr/local/lib/python3.11/dist-packages (from numpy>=1.17.0->lightgbm) (0.1.1)\nRequirement already satisfied: mkl in /usr/local/lib/python3.11/dist-packages (from numpy>=1.17.0->lightgbm) (2025.1.0)\nRequirement already satisfied: tbb4py in /usr/local/lib/python3.11/dist-packages (from numpy>=1.17.0->lightgbm) (2022.1.0)\nRequirement already satisfied: mkl-service in /usr/local/lib/python3.11/dist-packages (from numpy>=1.17.0->lightgbm) (2.4.1)\nRequirement already satisfied: intel-openmp<2026,>=2024 in /usr/local/lib/python3.11/dist-packages (from mkl->numpy>=1.17.0->lightgbm) (2024.2.0)\nRequirement already satisfied: tbb==2022.* in /usr/local/lib/python3.11/dist-packages (from mkl->numpy>=1.17.0->lightgbm) (2022.1.0)\nRequirement already satisfied: tcmlib==1.* in /usr/local/lib/python3.11/dist-packages (from tbb==2022.*->mkl->numpy>=1.17.0->lightgbm) (1.3.0)\nRequirement already satisfied: intel-cmplr-lib-rt in /usr/local/lib/python3.11/dist-packages (from mkl_umath->numpy>=1.17.0->lightgbm) (2024.2.0)\nRequirement already satisfied: intel-cmplr-lib-ur==2024.2.0 in /usr/local/lib/python3.11/dist-packages (from intel-openmp<2026,>=2024->mkl->numpy>=1.17.0->lightgbm) (2024.2.0)\n",
          "output_type": "stream"
        }
      ],
      "execution_count": null
    },
    {
      "cell_type": "code",
      "source": [
        "# Base path\n",
        "base_path = \"/kaggle/input/decision-track/\"\n",
        "\n",
        "# Load files\n",
        "train = pd.read_parquet(base_path + \"train_data.parquet\")\n",
        "test = pd.read_parquet(base_path + \"test_data.parquet\")\n",
        "offers = pd.read_parquet(base_path + \"offer_metadata.parquet\")\n",
        "trans = pd.read_parquet(base_path + \"add_trans.parquet\")\n",
        "events = pd.read_parquet(base_path + \"add_event.parquet\")\n"
      ],
      "metadata": {
        "trusted": true,
        "execution": {
          "iopub.status.busy": "2025-07-01T17:41:43.397071Z",
          "iopub.execute_input": "2025-07-01T17:41:43.398276Z",
          "iopub.status.idle": "2025-07-01T17:42:25.497878Z",
          "shell.execute_reply.started": "2025-07-01T17:41:43.398236Z",
          "shell.execute_reply": "2025-07-01T17:42:25.497008Z"
        },
        "id": "qwPV8ujnNYaX"
      },
      "outputs": [],
      "execution_count": null
    },
    {
      "cell_type": "code",
      "source": [
        "trans.columns\n"
      ],
      "metadata": {
        "trusted": true,
        "execution": {
          "iopub.status.busy": "2025-07-01T17:42:25.508384Z",
          "iopub.execute_input": "2025-07-01T17:42:25.508657Z",
          "iopub.status.idle": "2025-07-01T17:42:25.522252Z",
          "shell.execute_reply.started": "2025-07-01T17:42:25.508637Z",
          "shell.execute_reply": "2025-07-01T17:42:25.52142Z"
        },
        "id": "Mcnf3uNFNYaY",
        "outputId": "c1cbe61f-da3f-45e8-c884-d3f2e6f4ea83"
      },
      "outputs": [
        {
          "execution_count": 10,
          "output_type": "execute_result",
          "data": {
            "text/plain": "Index(['id2', 'f367', 'f368', 'f369', 'f370', 'f371', 'f372', 'id8', 'f374'], dtype='object')"
          },
          "metadata": {}
        }
      ],
      "execution_count": null
    },
    {
      "cell_type": "code",
      "source": [
        "print(\"📦 Train columns:\\n\", train.columns.tolist())\n",
        "print(\"\\n📦 Offers columns:\\n\", offers.columns.tolist())\n"
      ],
      "metadata": {
        "trusted": true,
        "execution": {
          "iopub.status.busy": "2025-07-01T17:42:25.540046Z",
          "iopub.execute_input": "2025-07-01T17:42:25.540564Z",
          "iopub.status.idle": "2025-07-01T17:42:25.55522Z",
          "shell.execute_reply.started": "2025-07-01T17:42:25.54053Z",
          "shell.execute_reply": "2025-07-01T17:42:25.554199Z"
        },
        "id": "iaRG_xmjNYaY",
        "outputId": "75b10ffd-9574-4104-fe1e-5d7adf32e9ba"
      },
      "outputs": [
        {
          "name": "stdout",
          "text": "📦 Train columns:\n ['id1', 'id2', 'id3', 'id4', 'id5', 'y', 'f1', 'f2', 'f3', 'f4', 'f5', 'f6', 'f7', 'f8', 'f9', 'f10', 'f11', 'f12', 'f13', 'f14', 'f15', 'f16', 'f17', 'f18', 'f19', 'f20', 'f21', 'f22', 'f23', 'f24', 'f25', 'f26', 'f27', 'f28', 'f29', 'f30', 'f31', 'f32', 'f33', 'f34', 'f35', 'f36', 'f37', 'f38', 'f39', 'f40', 'f41', 'f42', 'f43', 'f44', 'f45', 'f46', 'f47', 'f48', 'f49', 'f50', 'f51', 'f52', 'f53', 'f54', 'f55', 'f56', 'f57', 'f58', 'f59', 'f60', 'f61', 'f62', 'f63', 'f64', 'f65', 'f66', 'f67', 'f68', 'f69', 'f70', 'f71', 'f72', 'f73', 'f74', 'f75', 'f76', 'f77', 'f78', 'f79', 'f80', 'f81', 'f82', 'f83', 'f84', 'f85', 'f86', 'f87', 'f88', 'f89', 'f90', 'f91', 'f92', 'f93', 'f94', 'f95', 'f96', 'f97', 'f98', 'f99', 'f100', 'f101', 'f102', 'f103', 'f104', 'f105', 'f106', 'f107', 'f108', 'f109', 'f110', 'f111', 'f112', 'f113', 'f114', 'f115', 'f116', 'f117', 'f118', 'f119', 'f120', 'f121', 'f122', 'f123', 'f124', 'f125', 'f126', 'f127', 'f128', 'f129', 'f130', 'f131', 'f132', 'f133', 'f134', 'f135', 'f136', 'f137', 'f138', 'f139', 'f140', 'f141', 'f142', 'f143', 'f144', 'f145', 'f146', 'f147', 'f148', 'f149', 'f150', 'f151', 'f152', 'f153', 'f154', 'f155', 'f156', 'f157', 'f158', 'f159', 'f160', 'f161', 'f162', 'f163', 'f164', 'f165', 'f166', 'f167', 'f168', 'f169', 'f170', 'f171', 'f172', 'f173', 'f174', 'f175', 'f176', 'f177', 'f178', 'f179', 'f180', 'f181', 'f182', 'f183', 'f184', 'f185', 'f186', 'f187', 'f188', 'f189', 'f190', 'f191', 'f192', 'f193', 'f194', 'f195', 'f196', 'f197', 'f198', 'f199', 'f200', 'f201', 'f202', 'f203', 'f204', 'f205', 'f206', 'f207', 'f208', 'f209', 'f210', 'f211', 'f212', 'f213', 'f214', 'f215', 'f216', 'f217', 'f218', 'f219', 'f220', 'f221', 'f222', 'f223', 'f224', 'f225', 'f226', 'f227', 'f228', 'f229', 'f230', 'f231', 'f232', 'f233', 'f234', 'f235', 'f236', 'f237', 'f238', 'f239', 'f240', 'f241', 'f242', 'f243', 'f244', 'f245', 'f246', 'f247', 'f248', 'f249', 'f250', 'f251', 'f252', 'f253', 'f254', 'f255', 'f256', 'f257', 'f258', 'f259', 'f260', 'f261', 'f262', 'f263', 'f264', 'f265', 'f266', 'f267', 'f268', 'f269', 'f270', 'f271', 'f272', 'f273', 'f274', 'f275', 'f276', 'f277', 'f278', 'f279', 'f280', 'f281', 'f282', 'f283', 'f284', 'f285', 'f286', 'f287', 'f288', 'f289', 'f290', 'f291', 'f292', 'f293', 'f294', 'f295', 'f296', 'f297', 'f298', 'f299', 'f300', 'f301', 'f302', 'f303', 'f304', 'f305', 'f306', 'f307', 'f308', 'f309', 'f310', 'f311', 'f312', 'f313', 'f314', 'f315', 'f316', 'f317', 'f318', 'f319', 'f320', 'f321', 'f322', 'f323', 'f324', 'f325', 'f326', 'f327', 'f328', 'f329', 'f330', 'f331', 'f332', 'f333', 'f334', 'f335', 'f336', 'f337', 'f338', 'f339', 'f340', 'f341', 'f342', 'f343', 'f344', 'f345', 'f346', 'f347', 'f348', 'f349', 'f350', 'f351', 'f352', 'f353', 'f354', 'f355', 'f356', 'f357', 'f358', 'f359', 'f360', 'f361', 'f362', 'f363', 'f364', 'f365', 'f366']\n\n📦 Offers columns:\n ['id3', 'id9', 'f375', 'f376', 'f377', 'id10', 'id11', 'f378', 'f374', 'id8', 'id12', 'id13']\n",
          "output_type": "stream"
        }
      ],
      "execution_count": null
    },
    {
      "cell_type": "code",
      "source": [
        "# Only do this if you haven't merged already (and don't have f374/f375/f376)\n",
        "\n",
        "# Convert id3 to string type\n",
        "offers['id3'] = offers['id3'].astype(str)\n",
        "\n",
        "# Select only the columns we want to merge (avoid duplicate fXXXs)\n",
        "offers_clean = offers[['id3', 'f374', 'f375', 'f376', 'f377', 'f378']]  # adjust based on offers.head()\n",
        "\n",
        "# Also convert id3 in train and test — if available\n",
        "if 'id3' in train.columns:\n",
        "    train['id3'] = train['id3'].astype(str)\n",
        "    test['id3'] = test['id3'].astype(str)\n",
        "\n",
        "    # Merge offers\n",
        "    train = train.merge(offers_clean, on='id3', how='left')\n",
        "    test = test.merge(offers_clean, on='id3', how='left')\n",
        "    print(\"✅ Successfully merged offers metadata into train and test.\")\n",
        "else:\n",
        "    print(\"❗ Skipping merge — 'id3' not present in train/test (likely already merged).\")\n"
      ],
      "metadata": {
        "trusted": true,
        "execution": {
          "iopub.status.busy": "2025-07-01T17:43:39.763358Z",
          "iopub.execute_input": "2025-07-01T17:43:39.764186Z",
          "iopub.status.idle": "2025-07-01T17:43:58.971775Z",
          "shell.execute_reply.started": "2025-07-01T17:43:39.764155Z",
          "shell.execute_reply": "2025-07-01T17:43:58.970829Z"
        },
        "id": "9t0ROZ43NYaZ",
        "outputId": "057af926-df41-4bfe-a36f-e71db0aecfce"
      },
      "outputs": [
        {
          "name": "stdout",
          "text": "✅ Successfully merged offers metadata into train and test.\n",
          "output_type": "stream"
        }
      ],
      "execution_count": null
    },
    {
      "cell_type": "code",
      "source": [
        "print(\"🔍 Transactions columns:\\n\", trans.columns.tolist())\n"
      ],
      "metadata": {
        "trusted": true,
        "execution": {
          "iopub.status.busy": "2025-07-01T17:43:58.979142Z",
          "iopub.execute_input": "2025-07-01T17:43:58.97942Z",
          "iopub.status.idle": "2025-07-01T17:43:58.99546Z",
          "shell.execute_reply.started": "2025-07-01T17:43:58.979399Z",
          "shell.execute_reply": "2025-07-01T17:43:58.994629Z"
        },
        "id": "M1xfv_PANYaa",
        "outputId": "c4abebbe-46a2-499e-ecd9-9b3b571d2fc3"
      },
      "outputs": [
        {
          "name": "stdout",
          "text": "🔍 Transactions columns:\n ['id2', 'f367', 'f368', 'f369', 'f370', 'f371', 'f372', 'id8', 'f374']\n",
          "output_type": "stream"
        }
      ],
      "execution_count": null
    },
    {
      "cell_type": "code",
      "source": [
        "print(\"🔍 Train columns:\\n\", train.columns.tolist())\n",
        "print(\"\\n🔍 Test columns:\\n\", test.columns.tolist())\n"
      ],
      "metadata": {
        "trusted": true,
        "execution": {
          "iopub.status.busy": "2025-07-01T17:43:59.522775Z",
          "iopub.execute_input": "2025-07-01T17:43:59.52364Z",
          "iopub.status.idle": "2025-07-01T17:43:59.529832Z",
          "shell.execute_reply.started": "2025-07-01T17:43:59.523602Z",
          "shell.execute_reply": "2025-07-01T17:43:59.528755Z"
        },
        "id": "wVY43Cy2NYaa",
        "outputId": "d7e75660-c372-4ccc-d782-97f2a586e8bb"
      },
      "outputs": [
        {
          "name": "stdout",
          "text": "🔍 Train columns:\n ['id1', 'id2', 'id3', 'id4', 'id5', 'y', 'f1', 'f2', 'f3', 'f4', 'f5', 'f6', 'f7', 'f8', 'f9', 'f10', 'f11', 'f12', 'f13', 'f14', 'f15', 'f16', 'f17', 'f18', 'f19', 'f20', 'f21', 'f22', 'f23', 'f24', 'f25', 'f26', 'f27', 'f28', 'f29', 'f30', 'f31', 'f32', 'f33', 'f34', 'f35', 'f36', 'f37', 'f38', 'f39', 'f40', 'f41', 'f42', 'f43', 'f44', 'f45', 'f46', 'f47', 'f48', 'f49', 'f50', 'f51', 'f52', 'f53', 'f54', 'f55', 'f56', 'f57', 'f58', 'f59', 'f60', 'f61', 'f62', 'f63', 'f64', 'f65', 'f66', 'f67', 'f68', 'f69', 'f70', 'f71', 'f72', 'f73', 'f74', 'f75', 'f76', 'f77', 'f78', 'f79', 'f80', 'f81', 'f82', 'f83', 'f84', 'f85', 'f86', 'f87', 'f88', 'f89', 'f90', 'f91', 'f92', 'f93', 'f94', 'f95', 'f96', 'f97', 'f98', 'f99', 'f100', 'f101', 'f102', 'f103', 'f104', 'f105', 'f106', 'f107', 'f108', 'f109', 'f110', 'f111', 'f112', 'f113', 'f114', 'f115', 'f116', 'f117', 'f118', 'f119', 'f120', 'f121', 'f122', 'f123', 'f124', 'f125', 'f126', 'f127', 'f128', 'f129', 'f130', 'f131', 'f132', 'f133', 'f134', 'f135', 'f136', 'f137', 'f138', 'f139', 'f140', 'f141', 'f142', 'f143', 'f144', 'f145', 'f146', 'f147', 'f148', 'f149', 'f150', 'f151', 'f152', 'f153', 'f154', 'f155', 'f156', 'f157', 'f158', 'f159', 'f160', 'f161', 'f162', 'f163', 'f164', 'f165', 'f166', 'f167', 'f168', 'f169', 'f170', 'f171', 'f172', 'f173', 'f174', 'f175', 'f176', 'f177', 'f178', 'f179', 'f180', 'f181', 'f182', 'f183', 'f184', 'f185', 'f186', 'f187', 'f188', 'f189', 'f190', 'f191', 'f192', 'f193', 'f194', 'f195', 'f196', 'f197', 'f198', 'f199', 'f200', 'f201', 'f202', 'f203', 'f204', 'f205', 'f206', 'f207', 'f208', 'f209', 'f210', 'f211', 'f212', 'f213', 'f214', 'f215', 'f216', 'f217', 'f218', 'f219', 'f220', 'f221', 'f222', 'f223', 'f224', 'f225', 'f226', 'f227', 'f228', 'f229', 'f230', 'f231', 'f232', 'f233', 'f234', 'f235', 'f236', 'f237', 'f238', 'f239', 'f240', 'f241', 'f242', 'f243', 'f244', 'f245', 'f246', 'f247', 'f248', 'f249', 'f250', 'f251', 'f252', 'f253', 'f254', 'f255', 'f256', 'f257', 'f258', 'f259', 'f260', 'f261', 'f262', 'f263', 'f264', 'f265', 'f266', 'f267', 'f268', 'f269', 'f270', 'f271', 'f272', 'f273', 'f274', 'f275', 'f276', 'f277', 'f278', 'f279', 'f280', 'f281', 'f282', 'f283', 'f284', 'f285', 'f286', 'f287', 'f288', 'f289', 'f290', 'f291', 'f292', 'f293', 'f294', 'f295', 'f296', 'f297', 'f298', 'f299', 'f300', 'f301', 'f302', 'f303', 'f304', 'f305', 'f306', 'f307', 'f308', 'f309', 'f310', 'f311', 'f312', 'f313', 'f314', 'f315', 'f316', 'f317', 'f318', 'f319', 'f320', 'f321', 'f322', 'f323', 'f324', 'f325', 'f326', 'f327', 'f328', 'f329', 'f330', 'f331', 'f332', 'f333', 'f334', 'f335', 'f336', 'f337', 'f338', 'f339', 'f340', 'f341', 'f342', 'f343', 'f344', 'f345', 'f346', 'f347', 'f348', 'f349', 'f350', 'f351', 'f352', 'f353', 'f354', 'f355', 'f356', 'f357', 'f358', 'f359', 'f360', 'f361', 'f362', 'f363', 'f364', 'f365', 'f366', 'f374', 'f375', 'f376', 'f377', 'f378']\n\n🔍 Test columns:\n ['id1', 'id2', 'id3', 'id4', 'id5', 'f1', 'f2', 'f3', 'f4', 'f5', 'f6', 'f7', 'f8', 'f9', 'f10', 'f11', 'f12', 'f13', 'f14', 'f15', 'f16', 'f17', 'f18', 'f19', 'f20', 'f21', 'f22', 'f23', 'f24', 'f25', 'f26', 'f27', 'f28', 'f29', 'f30', 'f31', 'f32', 'f33', 'f34', 'f35', 'f36', 'f37', 'f38', 'f39', 'f40', 'f41', 'f42', 'f43', 'f44', 'f45', 'f46', 'f47', 'f48', 'f49', 'f50', 'f51', 'f52', 'f53', 'f54', 'f55', 'f56', 'f57', 'f58', 'f59', 'f60', 'f61', 'f62', 'f63', 'f64', 'f65', 'f66', 'f67', 'f68', 'f69', 'f70', 'f71', 'f72', 'f73', 'f74', 'f75', 'f76', 'f77', 'f78', 'f79', 'f80', 'f81', 'f82', 'f83', 'f84', 'f85', 'f86', 'f87', 'f88', 'f89', 'f90', 'f91', 'f92', 'f93', 'f94', 'f95', 'f96', 'f97', 'f98', 'f99', 'f100', 'f101', 'f102', 'f103', 'f104', 'f105', 'f106', 'f107', 'f108', 'f109', 'f110', 'f111', 'f112', 'f113', 'f114', 'f115', 'f116', 'f117', 'f118', 'f119', 'f120', 'f121', 'f122', 'f123', 'f124', 'f125', 'f126', 'f127', 'f128', 'f129', 'f130', 'f131', 'f132', 'f133', 'f134', 'f135', 'f136', 'f137', 'f138', 'f139', 'f140', 'f141', 'f142', 'f143', 'f144', 'f145', 'f146', 'f147', 'f148', 'f149', 'f150', 'f151', 'f152', 'f153', 'f154', 'f155', 'f156', 'f157', 'f158', 'f159', 'f160', 'f161', 'f162', 'f163', 'f164', 'f165', 'f166', 'f167', 'f168', 'f169', 'f170', 'f171', 'f172', 'f173', 'f174', 'f175', 'f176', 'f177', 'f178', 'f179', 'f180', 'f181', 'f182', 'f183', 'f184', 'f185', 'f186', 'f187', 'f188', 'f189', 'f190', 'f191', 'f192', 'f193', 'f194', 'f195', 'f196', 'f197', 'f198', 'f199', 'f200', 'f201', 'f202', 'f203', 'f204', 'f205', 'f206', 'f207', 'f208', 'f209', 'f210', 'f211', 'f212', 'f213', 'f214', 'f215', 'f216', 'f217', 'f218', 'f219', 'f220', 'f221', 'f222', 'f223', 'f224', 'f225', 'f226', 'f227', 'f228', 'f229', 'f230', 'f231', 'f232', 'f233', 'f234', 'f235', 'f236', 'f237', 'f238', 'f239', 'f240', 'f241', 'f242', 'f243', 'f244', 'f245', 'f246', 'f247', 'f248', 'f249', 'f250', 'f251', 'f252', 'f253', 'f254', 'f255', 'f256', 'f257', 'f258', 'f259', 'f260', 'f261', 'f262', 'f263', 'f264', 'f265', 'f266', 'f267', 'f268', 'f269', 'f270', 'f271', 'f272', 'f273', 'f274', 'f275', 'f276', 'f277', 'f278', 'f279', 'f280', 'f281', 'f282', 'f283', 'f284', 'f285', 'f286', 'f287', 'f288', 'f289', 'f290', 'f291', 'f292', 'f293', 'f294', 'f295', 'f296', 'f297', 'f298', 'f299', 'f300', 'f301', 'f302', 'f303', 'f304', 'f305', 'f306', 'f307', 'f308', 'f309', 'f310', 'f311', 'f312', 'f313', 'f314', 'f315', 'f316', 'f317', 'f318', 'f319', 'f320', 'f321', 'f322', 'f323', 'f324', 'f325', 'f326', 'f327', 'f328', 'f329', 'f330', 'f331', 'f332', 'f333', 'f334', 'f335', 'f336', 'f337', 'f338', 'f339', 'f340', 'f341', 'f342', 'f343', 'f344', 'f345', 'f346', 'f347', 'f348', 'f349', 'f350', 'f351', 'f352', 'f353', 'f354', 'f355', 'f356', 'f357', 'f358', 'f359', 'f360', 'f361', 'f362', 'f363', 'f364', 'f365', 'f366', 'f374', 'f375', 'f376', 'f377', 'f378']\n",
          "output_type": "stream"
        }
      ],
      "execution_count": null
    },
    {
      "cell_type": "code",
      "source": [
        "# Step 3B: Use f370 as amount and f374 as user ID\n",
        "\n",
        "# 1. Ensure f370 is numeric\n",
        "trans['f370'] = pd.to_numeric(trans['f370'], errors='coerce')\n",
        "\n",
        "# 2. Rename columns for clarity\n",
        "trans = trans.rename(columns={'id2': 'user_id', 'f370': 'amount', 'f374': 'user_key'})\n",
        "\n",
        "# 3. Convert to string\n",
        "trans['user_key'] = trans['user_key'].astype(str)\n",
        "train['f374'] = train['f374'].astype(str)\n",
        "test['f374'] = test['f374'].astype(str)\n",
        "\n",
        "# 4. Aggregate\n",
        "trans_agg = trans.groupby('user_key')['amount'].agg(['sum', 'mean', 'count']).reset_index()\n",
        "trans_agg.columns = ['user_key', 'total_spent', 'avg_spent', 'transaction_count']\n",
        "\n",
        "# 5. Merge into train/test\n",
        "train = train.merge(trans_agg, left_on='f374', right_on='user_key', how='left')\n",
        "test = test.merge(trans_agg, left_on='f374', right_on='user_key', how='left')\n",
        "\n",
        "# 6. Drop redundant merge column\n",
        "train = train.drop(columns=['user_key'])\n",
        "test = test.drop(columns=['user_key'])\n",
        "\n",
        "print(\"✅ Step 3B complete! Transactions merged successfully.\")\n"
      ],
      "metadata": {
        "trusted": true,
        "execution": {
          "iopub.status.busy": "2025-07-01T17:44:03.352958Z",
          "iopub.execute_input": "2025-07-01T17:44:03.353356Z",
          "iopub.status.idle": "2025-07-01T17:44:35.463906Z",
          "shell.execute_reply.started": "2025-07-01T17:44:03.353326Z",
          "shell.execute_reply": "2025-07-01T17:44:35.462918Z"
        },
        "id": "40VCKoBkNYaa",
        "outputId": "a7e693a9-d720-4f89-a608-70e5993b930b"
      },
      "outputs": [
        {
          "name": "stdout",
          "text": "✅ Step 3B complete! Transactions merged successfully.\n",
          "output_type": "stream"
        }
      ],
      "execution_count": null
    },
    {
      "cell_type": "code",
      "source": [
        "import numpy as np\n",
        "\n",
        "# Define columns to exclude (ID columns)\n",
        "drop_cols = ['f374']  # user_id\n",
        "target = 'y' if 'y' in train.columns else None\n",
        "\n",
        "# Step 1: Drop IDs and target\n",
        "X = train.drop(columns=drop_cols + ([target] if target else []))\n",
        "X_test = test.drop(columns=drop_cols)\n",
        "\n",
        "# Step 2: Convert columns individually and fill NAs\n",
        "def safe_convert(df):\n",
        "    for col in df.columns:\n",
        "        if df[col].dtype == 'object':\n",
        "            try:\n",
        "                df[col] = pd.to_numeric(df[col], errors='coerce')\n",
        "            except:\n",
        "                df[col] = np.nan  # If conversion fails, set to NaN\n",
        "    return df.fillna(-1)\n",
        "\n",
        "X = safe_convert(X)\n",
        "X_test = safe_convert(X_test)\n",
        "y = train[target] if target else None\n",
        "\n",
        "print(\"✅ Step 4 complete (optimized).\")\n",
        "print(f\"X shape: {X.shape}, X_test shape: {X_test.shape}\")\n"
      ],
      "metadata": {
        "trusted": true,
        "execution": {
          "iopub.status.busy": "2025-07-01T17:44:47.381905Z",
          "iopub.execute_input": "2025-07-01T17:44:47.382319Z",
          "iopub.status.idle": "2025-07-01T17:46:47.282008Z",
          "shell.execute_reply.started": "2025-07-01T17:44:47.382286Z",
          "shell.execute_reply": "2025-07-01T17:46:47.280924Z"
        },
        "id": "g5LKWJgLNYab",
        "outputId": "47875cba-2c2c-4bd3-eea9-b779fb190c41"
      },
      "outputs": [
        {
          "name": "stdout",
          "text": "✅ Step 4 complete (optimized).\nX shape: (770164, 378), X_test shape: (369301, 378)\n",
          "output_type": "stream"
        }
      ],
      "execution_count": null
    },
    {
      "cell_type": "code",
      "source": [
        "from sklearn.model_selection import train_test_split\n",
        "import lightgbm as lgb\n",
        "\n",
        "# Split the data (80% train, 20% val)\n",
        "X_train, X_val, y_train, y_val = train_test_split(\n",
        "    X, y, test_size=0.2, random_state=42, stratify=y\n",
        ")\n",
        "\n",
        "# Prepare LightGBM datasets\n",
        "train_data = lgb.Dataset(X_train, label=y_train)\n",
        "val_data = lgb.Dataset(X_val, label=y_val)\n",
        "\n",
        "print(\"✅ Step 5 done: Data split and prepared for LightGBM.\")\n",
        "print(\"Train size:\", X_train.shape, \"| Validation size:\", X_val.shape)\n",
        "\n"
      ],
      "metadata": {
        "trusted": true,
        "execution": {
          "iopub.status.busy": "2025-07-01T17:50:05.603463Z",
          "iopub.execute_input": "2025-07-01T17:50:05.603951Z",
          "iopub.status.idle": "2025-07-01T17:50:12.256363Z",
          "shell.execute_reply.started": "2025-07-01T17:50:05.603917Z",
          "shell.execute_reply": "2025-07-01T17:50:12.255269Z"
        },
        "id": "zD9xF8YlNYab",
        "outputId": "6f3967e7-ae34-49a1-86a6-f64cf9697bc9"
      },
      "outputs": [
        {
          "name": "stdout",
          "text": "✅ Step 5 done: Data split and prepared for LightGBM.\nTrain size: (616131, 378) | Validation size: (154033, 378)\n",
          "output_type": "stream"
        }
      ],
      "execution_count": null
    },
    {
      "cell_type": "code",
      "source": [
        "# LightGBM parameters\n",
        "params = {\n",
        "    'objective': 'binary',\n",
        "    'metric': 'auc',\n",
        "    'boosting_type': 'gbdt',\n",
        "    'learning_rate': 0.05,\n",
        "    'num_leaves': 31,\n",
        "    'verbose': -1\n",
        "}\n",
        "\n",
        "# Train the model using sklearn API (better with early stopping)\n",
        "model = lgb.LGBMClassifier(**params, n_estimators=1000)\n",
        "\n",
        "# Fit with early stopping on validation AUC\n",
        "model.fit(\n",
        "    X_train, y_train,\n",
        "    eval_set=[(X_val, y_val)],\n",
        "    eval_metric='auc',\n",
        "    callbacks=[lgb.early_stopping(stopping_rounds=50)]\n",
        ")\n",
        "\n",
        "print(\"✅ Step 6 complete: Model trained.\")\n"
      ],
      "metadata": {
        "trusted": true,
        "execution": {
          "iopub.status.busy": "2025-07-01T17:50:45.022464Z",
          "iopub.execute_input": "2025-07-01T17:50:45.022796Z",
          "iopub.status.idle": "2025-07-01T17:54:23.696926Z",
          "shell.execute_reply.started": "2025-07-01T17:50:45.022771Z",
          "shell.execute_reply": "2025-07-01T17:54:23.695715Z"
        },
        "id": "_fQF3kJ5NYac",
        "outputId": "ce88cdd6-1bd9-44cb-e583-d5382a69ccc4"
      },
      "outputs": [
        {
          "name": "stdout",
          "text": "Training until validation scores don't improve for 50 rounds\nDid not meet early stopping. Best iteration is:\n[966]\tvalid_0's auc: 0.953538\n✅ Step 6 complete: Model trained.\n",
          "output_type": "stream"
        }
      ],
      "execution_count": null
    },
    {
      "cell_type": "code",
      "source": [
        "from sklearn.metrics import roc_auc_score\n",
        "\n",
        "# Predict probabilities for validation set\n",
        "val_preds = model.predict_proba(X_val)[:, 1]\n",
        "\n",
        "# Calculate AUC\n",
        "val_auc = roc_auc_score(y_val, val_preds)\n",
        "print(f\"✅ Validation AUC Score: {val_auc:.4f}\")\n"
      ],
      "metadata": {
        "trusted": true,
        "execution": {
          "iopub.status.busy": "2025-07-01T17:55:43.81051Z",
          "iopub.execute_input": "2025-07-01T17:55:43.810942Z",
          "iopub.status.idle": "2025-07-01T17:55:50.300799Z",
          "shell.execute_reply.started": "2025-07-01T17:55:43.810913Z",
          "shell.execute_reply": "2025-07-01T17:55:50.299918Z"
        },
        "id": "p21ZNx1SNYac",
        "outputId": "8c8d097b-58ec-4c6c-dc36-afad27141c3d"
      },
      "outputs": [
        {
          "name": "stdout",
          "text": "✅ Validation AUC Score: 0.9535\n",
          "output_type": "stream"
        }
      ],
      "execution_count": null
    },
    {
      "cell_type": "code",
      "source": [
        "# Predict probabilities for test set\n",
        "test_preds = model.predict_proba(X_test)[:, 1]\n",
        "\n",
        "# Print a preview of predictions\n",
        "print(\"🔍 Sample predictions on test set:\")\n",
        "print(test_preds[:10])  # Show first 10 predictions\n"
      ],
      "metadata": {
        "trusted": true,
        "execution": {
          "iopub.status.busy": "2025-07-01T17:57:57.538941Z",
          "iopub.execute_input": "2025-07-01T17:57:57.539885Z",
          "iopub.status.idle": "2025-07-01T17:58:12.059936Z",
          "shell.execute_reply.started": "2025-07-01T17:57:57.539822Z",
          "shell.execute_reply": "2025-07-01T17:58:12.059047Z"
        },
        "id": "zUSiL0fkNYac",
        "outputId": "d8c4dd27-ce97-475f-f0d8-694e5f883441"
      },
      "outputs": [
        {
          "name": "stdout",
          "text": "🔍 Sample predictions on test set:\n[0.00276554 0.02524373 0.98770245 0.00250081 0.005009   0.00288031\n 0.00682164 0.00385238 0.03232597 0.00404257]\n",
          "output_type": "stream"
        }
      ],
      "execution_count": null
    },
    {
      "cell_type": "code",
      "source": [
        "# List files and folders under /kaggle/input\n",
        "import os\n",
        "\n",
        "print(\"🗂 Files in /kaggle/input:\")\n",
        "for dirname, _, filenames in os.walk('/kaggle/input'):\n",
        "    print(f\"📁 {dirname}\")\n",
        "    for filename in filenames:\n",
        "        print(f\"   📄 {filename}\")\n"
      ],
      "metadata": {
        "trusted": true,
        "execution": {
          "iopub.status.busy": "2025-07-01T17:59:04.73494Z",
          "iopub.execute_input": "2025-07-01T17:59:04.735325Z",
          "iopub.status.idle": "2025-07-01T17:59:04.757831Z",
          "shell.execute_reply.started": "2025-07-01T17:59:04.7353Z",
          "shell.execute_reply": "2025-07-01T17:59:04.756875Z"
        },
        "id": "ya9hf24vNYac",
        "outputId": "5487c4d4-6bda-4963-c0a4-a0942341700e"
      },
      "outputs": [
        {
          "name": "stdout",
          "text": "🗂 Files in /kaggle/input:\n📁 /kaggle/input\n📁 /kaggle/input/decision-track\n   📄 test_data.parquet\n   📄 add_event.parquet\n   📄 data_dictionary.csv\n   📄 offer_metadata.parquet\n   📄 add_trans.parquet\n   📄 train_data.parquet\n",
          "output_type": "stream"
        }
      ],
      "execution_count": null
    },
    {
      "cell_type": "code",
      "source": [
        "# Load your specific submission template\n",
        "submission = pd.read_csv(\"/kaggle/input/submission/685404e30cfdb_submission_template.csv\")\n",
        "\n",
        "# Add predictions\n",
        "submission['y'] = test_preds\n",
        "\n",
        "# Save final submission file\n",
        "output_path = \"/kaggle/working/my_submission.csv\"\n",
        "submission.to_csv(output_path, index=False)\n",
        "\n",
        "# Confirm it's saved\n",
        "print(f\"✅ Submission file saved at {output_path}\")\n",
        "submission.head()\n"
      ],
      "metadata": {
        "trusted": true,
        "execution": {
          "iopub.status.busy": "2025-07-01T18:02:36.341544Z",
          "iopub.execute_input": "2025-07-01T18:02:36.342037Z",
          "iopub.status.idle": "2025-07-01T18:02:39.414756Z",
          "shell.execute_reply.started": "2025-07-01T18:02:36.342003Z",
          "shell.execute_reply": "2025-07-01T18:02:39.41383Z"
        },
        "id": "4hECw90vNYac",
        "outputId": "28e773fa-703f-4bf2-9850-84bd958f1356"
      },
      "outputs": [
        {
          "name": "stdout",
          "text": "✅ Submission file saved at /kaggle/working/my_submission.csv\n",
          "output_type": "stream"
        },
        {
          "name": "stderr",
          "text": "/usr/local/lib/python3.11/dist-packages/pandas/io/formats/format.py:1458: RuntimeWarning: invalid value encountered in greater\n  has_large_values = (abs_vals > 1e6).any()\n/usr/local/lib/python3.11/dist-packages/pandas/io/formats/format.py:1459: RuntimeWarning: invalid value encountered in less\n  has_small_values = ((abs_vals < 10 ** (-self.digits)) & (abs_vals > 0)).any()\n/usr/local/lib/python3.11/dist-packages/pandas/io/formats/format.py:1459: RuntimeWarning: invalid value encountered in greater\n  has_small_values = ((abs_vals < 10 ** (-self.digits)) & (abs_vals > 0)).any()\n",
          "output_type": "stream"
        },
        {
          "execution_count": 31,
          "output_type": "execute_result",
          "data": {
            "text/plain": "                                            id1      id2     id3        id5  \\\n0   1000061_31794_16-23_2023-11-05 09:47:54.852  1000061   31794  11/5/2023   \n1   1000061_16099_16-23_2023-11-05 09:28:11.514  1000061   16099  11/5/2023   \n2   1000061_72292_16-23_2023-11-05 09:28:07.697  1000061   72292  11/5/2023   \n3   1000061_27945_16-23_2023-11-05 09:28:04.157  1000061   27945  11/5/2023   \n4  1000061_944713_16-23_2023-11-05 09:28:12.529  1000061  944713  11/5/2023   \n\n   pred         y  \n0   NaN  0.002766  \n1   NaN  0.025244  \n2   NaN  0.987702  \n3   NaN  0.002501  \n4   NaN  0.005009  ",
            "text/html": "<div>\n<style scoped>\n    .dataframe tbody tr th:only-of-type {\n        vertical-align: middle;\n    }\n\n    .dataframe tbody tr th {\n        vertical-align: top;\n    }\n\n    .dataframe thead th {\n        text-align: right;\n    }\n</style>\n<table border=\"1\" class=\"dataframe\">\n  <thead>\n    <tr style=\"text-align: right;\">\n      <th></th>\n      <th>id1</th>\n      <th>id2</th>\n      <th>id3</th>\n      <th>id5</th>\n      <th>pred</th>\n      <th>y</th>\n    </tr>\n  </thead>\n  <tbody>\n    <tr>\n      <th>0</th>\n      <td>1000061_31794_16-23_2023-11-05 09:47:54.852</td>\n      <td>1000061</td>\n      <td>31794</td>\n      <td>11/5/2023</td>\n      <td>NaN</td>\n      <td>0.002766</td>\n    </tr>\n    <tr>\n      <th>1</th>\n      <td>1000061_16099_16-23_2023-11-05 09:28:11.514</td>\n      <td>1000061</td>\n      <td>16099</td>\n      <td>11/5/2023</td>\n      <td>NaN</td>\n      <td>0.025244</td>\n    </tr>\n    <tr>\n      <th>2</th>\n      <td>1000061_72292_16-23_2023-11-05 09:28:07.697</td>\n      <td>1000061</td>\n      <td>72292</td>\n      <td>11/5/2023</td>\n      <td>NaN</td>\n      <td>0.987702</td>\n    </tr>\n    <tr>\n      <th>3</th>\n      <td>1000061_27945_16-23_2023-11-05 09:28:04.157</td>\n      <td>1000061</td>\n      <td>27945</td>\n      <td>11/5/2023</td>\n      <td>NaN</td>\n      <td>0.002501</td>\n    </tr>\n    <tr>\n      <th>4</th>\n      <td>1000061_944713_16-23_2023-11-05 09:28:12.529</td>\n      <td>1000061</td>\n      <td>944713</td>\n      <td>11/5/2023</td>\n      <td>NaN</td>\n      <td>0.005009</td>\n    </tr>\n  </tbody>\n</table>\n</div>"
          },
          "metadata": {}
        }
      ],
      "execution_count": null
    },
    {
      "cell_type": "code",
      "source": [
        "import os\n",
        "\n",
        "print(\"Files in /kaggle/working:\")\n",
        "print(os.listdir(\"/kaggle/working\"))\n"
      ],
      "metadata": {
        "trusted": true,
        "execution": {
          "iopub.status.busy": "2025-07-01T18:04:06.206424Z",
          "iopub.execute_input": "2025-07-01T18:04:06.206829Z",
          "iopub.status.idle": "2025-07-01T18:04:06.213556Z",
          "shell.execute_reply.started": "2025-07-01T18:04:06.206799Z",
          "shell.execute_reply": "2025-07-01T18:04:06.212509Z"
        },
        "id": "OSQcgEBINYad",
        "outputId": "1ae346d0-b37c-4792-fa59-ec04f6d99efe"
      },
      "outputs": [
        {
          "name": "stdout",
          "text": "Files in /kaggle/working:\n['my_submission.csv', '.virtual_documents']\n",
          "output_type": "stream"
        }
      ],
      "execution_count": null
    }
  ]
}