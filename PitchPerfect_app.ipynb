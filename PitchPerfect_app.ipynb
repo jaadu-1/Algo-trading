{
  "nbformat": 4,
  "nbformat_minor": 0,
  "metadata": {
    "colab": {
      "provenance": [],
      "authorship_tag": "ABX9TyOQNKyhdH9fES5aM4OmA7Wr",
      "include_colab_link": true
    },
    "kernelspec": {
      "name": "python3",
      "display_name": "Python 3"
    },
    "language_info": {
      "name": "python"
    }
  },
  "cells": [
    {
      "cell_type": "markdown",
      "metadata": {
        "id": "view-in-github",
        "colab_type": "text"
      },
      "source": [
        "<a href=\"https://colab.research.google.com/github/jaadu-1/Algo-trading/blob/main/PitchPerfect_app.ipynb\" target=\"_parent\"><img src=\"https://colab.research.google.com/assets/colab-badge.svg\" alt=\"Open In Colab\"/></a>"
      ]
    },
    {
      "cell_type": "code",
      "execution_count": null,
      "metadata": {
        "colab": {
          "base_uri": "https://localhost:8080/"
        },
        "id": "Tfq4uq195Whm",
        "outputId": "4e09f64c-3380-4767-9da3-7db1e34a9e01"
      },
      "outputs": [
        {
          "output_type": "stream",
          "name": "stdout",
          "text": [
            "   Soil Moisture  Soil Temperature  Soil Compaction  Grass Coverage  \\\n",
            "0             35                28              1.1              20   \n",
            "1             45                30              1.3              25   \n",
            "2             50                32              1.5              15   \n",
            "3             25                26              0.9              40   \n",
            "4             40                29              1.2              35   \n",
            "\n",
            "            Label  \n",
            "0  Batting Wicket  \n",
            "1         Neutral  \n",
            "2  Bowling Wicket  \n",
            "3  Bowling Wicket  \n",
            "4         Neutral  \n"
          ]
        }
      ],
      "source": [
        "import pandas as pd\n",
        "\n",
        "# Load the CSV (you'll need to upload it first in Colab using the left panel)\n",
        "data = pd.read_csv('pitch_data.csv')\n",
        "\n",
        "\n",
        "# Show the first few rows\n",
        "print(data.head())"
      ]
    },
    {
      "cell_type": "code",
      "source": [
        "from sklearn.preprocessing import LabelEncoder\n",
        "\n",
        "# Make a copy of the original data\n",
        "df = data.copy()\n",
        "\n",
        "# Encode only the 'Label' column\n",
        "le_label = LabelEncoder()\n",
        "df['Label'] = le_label.fit_transform(df['Label'])\n",
        "\n",
        "# Show encoded DataFrame\n",
        "print(df)"
      ],
      "metadata": {
        "colab": {
          "base_uri": "https://localhost:8080/"
        },
        "id": "jG-k040l5jsg",
        "outputId": "cdadbe55-7e71-4104-b9cf-534d97c07640"
      },
      "execution_count": null,
      "outputs": [
        {
          "output_type": "stream",
          "name": "stdout",
          "text": [
            "   Soil Moisture  Soil Temperature  Soil Compaction  Grass Coverage  Label\n",
            "0             35                28              1.1              20      0\n",
            "1             45                30              1.3              25      2\n",
            "2             50                32              1.5              15      1\n",
            "3             25                26              0.9              40      1\n",
            "4             40                29              1.2              35      2\n",
            "5             30                27              1.0              30      0\n",
            "6             60                33              1.6              10      1\n",
            "7             42                31              1.3              22      2\n",
            "8             38                28              1.2              28      0\n",
            "9             55                34              1.4              12      1\n"
          ]
        }
      ]
    },
    {
      "cell_type": "code",
      "source": [
        "# Assuming you already have a DataFrame called `df` with encoded labels\n",
        "from sklearn.model_selection import train_test_split\n",
        "\n",
        "# Features and target\n",
        "X = df.drop('Label', axis=1)\n",
        "y = df['Label']\n",
        "\n",
        "# Split into training and test sets\n",
        "X_train, X_test, y_train, y_test = train_test_split(X, y, test_size=0.2, random_state=42)\n"
      ],
      "metadata": {
        "id": "-hxyzu3G5t_q"
      },
      "execution_count": null,
      "outputs": []
    },
    {
      "cell_type": "code",
      "source": [
        "from sklearn.ensemble import RandomForestClassifier\n",
        "\n",
        "model = RandomForestClassifier(random_state=42)\n",
        "model.fit(X_train, y_train)\n",
        "y_pred = model.predict(X_test)"
      ],
      "metadata": {
        "id": "yjFOBtY65zEm"
      },
      "execution_count": null,
      "outputs": []
    },
    {
      "cell_type": "code",
      "source": [
        "# Make sure this is already run\n",
        "import pandas as pd\n",
        "\n",
        "# Your sample input\n",
        "sample_input = pd.DataFrame([[35, 25, 1.2, 25]], columns=['Soil Moisture', 'Soil Temperature', 'Soil Compaction', 'Grass Coverage'])\n",
        "\n",
        "# Predict\n",
        "prediction = model.predict(sample_input)\n",
        "\n",
        "# Decode the predicted label to original text\n",
        "predicted_label = le_label.inverse_transform(prediction)\n",
        "\n",
        "print(\"Predicted Pitch Type:\", predicted_label[0])"
      ],
      "metadata": {
        "colab": {
          "base_uri": "https://localhost:8080/"
        },
        "id": "TamoSPjo53If",
        "outputId": "c6243e4e-7c4d-452b-8525-5da5e81023c2"
      },
      "execution_count": null,
      "outputs": [
        {
          "output_type": "stream",
          "name": "stdout",
          "text": [
            "Predicted Pitch Type: Batting Wicket\n"
          ]
        }
      ]
    },
    {
      "cell_type": "markdown",
      "metadata": {
        "id": "9258dc6a"
      },
      "source": [
        "# Task\n",
        "Explain how to save the trained model and label encoder, and create a function to predict new data using the saved model and label encoder."
      ]
    },
    {
      "cell_type": "code",
      "metadata": {
        "colab": {
          "base_uri": "https://localhost:8080/"
        },
        "id": "41b3b727",
        "outputId": "d525a058-c76b-4d7e-bc42-9f58e895eec4"
      },
      "source": [
        "import joblib\n",
        "\n",
        "# Save the trained model\n",
        "joblib.dump(model, 'pitch_prediction_model.pkl')\n",
        "print(\"Trained model saved as 'pitch_prediction_model.pkl'\")"
      ],
      "execution_count": null,
      "outputs": [
        {
          "output_type": "stream",
          "name": "stdout",
          "text": [
            "Trained model saved as 'pitch_prediction_model.pkl'\n"
          ]
        }
      ]
    },
    {
      "cell_type": "code",
      "metadata": {
        "colab": {
          "base_uri": "https://localhost:8080/"
        },
        "id": "53cdc36a",
        "outputId": "ba223c30-f469-4cee-cf70-b1bd70acb032"
      },
      "source": [
        "import joblib\n",
        "\n",
        "# Save the trained LabelEncoder\n",
        "joblib.dump(le_label, 'label_encoder.pkl')\n",
        "print(\"Label encoder saved as 'label_encoder.pkl'\")"
      ],
      "execution_count": null,
      "outputs": [
        {
          "output_type": "stream",
          "name": "stdout",
          "text": [
            "Label encoder saved as 'label_encoder.pkl'\n"
          ]
        }
      ]
    },
    {
      "cell_type": "code",
      "metadata": {
        "id": "cee24cbd"
      },
      "source": [
        "import joblib\n",
        "import pandas as pd\n",
        "\n",
        "def predict_pitch_type(soil_moisture, soil_temperature, soil_compaction, grass_coverage):\n",
        "    \"\"\"\n",
        "    Predicts the pitch type based on input features.\n",
        "\n",
        "    Args:\n",
        "        soil_moisture (float): Soil moisture level.\n",
        "        soil_temperature (float): Soil temperature in Celsius.\n",
        "        soil_compaction (float): Soil compaction level.\n",
        "        grass_coverage (float): Percentage of grass coverage.\n",
        "\n",
        "    Returns:\n",
        "        str: Predicted pitch type (e.g., 'Batting Wicket', 'Bowling Wicket', 'Neutral').\n",
        "    \"\"\"\n",
        "    # Load the saved model and label encoder\n",
        "    loaded_model = joblib.load('pitch_prediction_model.pkl')\n",
        "    loaded_le = joblib.load('label_encoder.pkl')\n",
        "\n",
        "    # Create a DataFrame from the input data\n",
        "    input_data = pd.DataFrame([[soil_moisture, soil_temperature, soil_compaction, grass_coverage]],\n",
        "                              columns=['Soil Moisture', 'Soil Temperature', 'Soil Compaction', 'Grass Coverage'])\n",
        "\n",
        "    # Predict the encoded label\n",
        "    prediction_encoded = loaded_model.predict(input_data)\n",
        "\n",
        "    # Decode the predicted label\n",
        "    predicted_label = loaded_le.inverse_transform(prediction_encoded)\n",
        "\n",
        "    return predicted_label[0]\n",
        "\n",
        "# Example usage:\n",
        "# predicted_type = predict_pitch_type(35, 25, 1.2, 25)\n",
        "# print(f\"The predicted pitch type is: {predicted_type}\")"
      ],
      "execution_count": null,
      "outputs": []
    },
    {
      "cell_type": "code",
      "metadata": {
        "colab": {
          "base_uri": "https://localhost:8080/"
        },
        "id": "cfeb841c",
        "outputId": "6f31930a-1986-424e-fbbc-155e855a1239"
      },
      "source": [
        "# Example usage of the prediction function\n",
        "predicted_type = predict_pitch_type(35, 25, 1.2, 25)\n",
        "print(f\"The predicted pitch type is: {predicted_type}\")"
      ],
      "execution_count": null,
      "outputs": [
        {
          "output_type": "stream",
          "name": "stdout",
          "text": [
            "The predicted pitch type is: Batting Wicket\n"
          ]
        }
      ]
    },
    {
      "cell_type": "code",
      "metadata": {
        "colab": {
          "base_uri": "https://localhost:8080/"
        },
        "id": "cd9d8324",
        "outputId": "4110ce7f-43ce-411c-c10b-c6f69d8a78f7"
      },
      "source": [
        "!pip install gradio"
      ],
      "execution_count": null,
      "outputs": [
        {
          "output_type": "stream",
          "name": "stdout",
          "text": [
            "Requirement already satisfied: gradio in /usr/local/lib/python3.11/dist-packages (5.31.0)\n",
            "Requirement already satisfied: aiofiles<25.0,>=22.0 in /usr/local/lib/python3.11/dist-packages (from gradio) (24.1.0)\n",
            "Requirement already satisfied: anyio<5.0,>=3.0 in /usr/local/lib/python3.11/dist-packages (from gradio) (4.9.0)\n",
            "Requirement already satisfied: fastapi<1.0,>=0.115.2 in /usr/local/lib/python3.11/dist-packages (from gradio) (0.115.12)\n",
            "Requirement already satisfied: ffmpy in /usr/local/lib/python3.11/dist-packages (from gradio) (0.6.0)\n",
            "Requirement already satisfied: gradio-client==1.10.1 in /usr/local/lib/python3.11/dist-packages (from gradio) (1.10.1)\n",
            "Requirement already satisfied: groovy~=0.1 in /usr/local/lib/python3.11/dist-packages (from gradio) (0.1.2)\n",
            "Requirement already satisfied: httpx>=0.24.1 in /usr/local/lib/python3.11/dist-packages (from gradio) (0.28.1)\n",
            "Requirement already satisfied: huggingface-hub>=0.28.1 in /usr/local/lib/python3.11/dist-packages (from gradio) (0.32.4)\n",
            "Requirement already satisfied: jinja2<4.0 in /usr/local/lib/python3.11/dist-packages (from gradio) (3.1.6)\n",
            "Requirement already satisfied: markupsafe<4.0,>=2.0 in /usr/local/lib/python3.11/dist-packages (from gradio) (3.0.2)\n",
            "Requirement already satisfied: numpy<3.0,>=1.0 in /usr/local/lib/python3.11/dist-packages (from gradio) (2.0.2)\n",
            "Requirement already satisfied: orjson~=3.0 in /usr/local/lib/python3.11/dist-packages (from gradio) (3.10.18)\n",
            "Requirement already satisfied: packaging in /usr/local/lib/python3.11/dist-packages (from gradio) (24.2)\n",
            "Requirement already satisfied: pandas<3.0,>=1.0 in /usr/local/lib/python3.11/dist-packages (from gradio) (2.2.2)\n",
            "Requirement already satisfied: pillow<12.0,>=8.0 in /usr/local/lib/python3.11/dist-packages (from gradio) (11.2.1)\n",
            "Requirement already satisfied: pydantic<2.12,>=2.0 in /usr/local/lib/python3.11/dist-packages (from gradio) (2.11.5)\n",
            "Requirement already satisfied: pydub in /usr/local/lib/python3.11/dist-packages (from gradio) (0.25.1)\n",
            "Requirement already satisfied: python-multipart>=0.0.18 in /usr/local/lib/python3.11/dist-packages (from gradio) (0.0.20)\n",
            "Requirement already satisfied: pyyaml<7.0,>=5.0 in /usr/local/lib/python3.11/dist-packages (from gradio) (6.0.2)\n",
            "Requirement already satisfied: ruff>=0.9.3 in /usr/local/lib/python3.11/dist-packages (from gradio) (0.11.12)\n",
            "Requirement already satisfied: safehttpx<0.2.0,>=0.1.6 in /usr/local/lib/python3.11/dist-packages (from gradio) (0.1.6)\n",
            "Requirement already satisfied: semantic-version~=2.0 in /usr/local/lib/python3.11/dist-packages (from gradio) (2.10.0)\n",
            "Requirement already satisfied: starlette<1.0,>=0.40.0 in /usr/local/lib/python3.11/dist-packages (from gradio) (0.46.2)\n",
            "Requirement already satisfied: tomlkit<0.14.0,>=0.12.0 in /usr/local/lib/python3.11/dist-packages (from gradio) (0.13.2)\n",
            "Requirement already satisfied: typer<1.0,>=0.12 in /usr/local/lib/python3.11/dist-packages (from gradio) (0.16.0)\n",
            "Requirement already satisfied: typing-extensions~=4.0 in /usr/local/lib/python3.11/dist-packages (from gradio) (4.14.0)\n",
            "Requirement already satisfied: uvicorn>=0.14.0 in /usr/local/lib/python3.11/dist-packages (from gradio) (0.34.3)\n",
            "Requirement already satisfied: fsspec in /usr/local/lib/python3.11/dist-packages (from gradio-client==1.10.1->gradio) (2025.3.2)\n",
            "Requirement already satisfied: websockets<16.0,>=10.0 in /usr/local/lib/python3.11/dist-packages (from gradio-client==1.10.1->gradio) (15.0.1)\n",
            "Requirement already satisfied: idna>=2.8 in /usr/local/lib/python3.11/dist-packages (from anyio<5.0,>=3.0->gradio) (3.10)\n",
            "Requirement already satisfied: sniffio>=1.1 in /usr/local/lib/python3.11/dist-packages (from anyio<5.0,>=3.0->gradio) (1.3.1)\n",
            "Requirement already satisfied: certifi in /usr/local/lib/python3.11/dist-packages (from httpx>=0.24.1->gradio) (2025.4.26)\n",
            "Requirement already satisfied: httpcore==1.* in /usr/local/lib/python3.11/dist-packages (from httpx>=0.24.1->gradio) (1.0.9)\n",
            "Requirement already satisfied: h11>=0.16 in /usr/local/lib/python3.11/dist-packages (from httpcore==1.*->httpx>=0.24.1->gradio) (0.16.0)\n",
            "Requirement already satisfied: filelock in /usr/local/lib/python3.11/dist-packages (from huggingface-hub>=0.28.1->gradio) (3.18.0)\n",
            "Requirement already satisfied: requests in /usr/local/lib/python3.11/dist-packages (from huggingface-hub>=0.28.1->gradio) (2.32.3)\n",
            "Requirement already satisfied: tqdm>=4.42.1 in /usr/local/lib/python3.11/dist-packages (from huggingface-hub>=0.28.1->gradio) (4.67.1)\n",
            "Requirement already satisfied: hf-xet<2.0.0,>=1.1.2 in /usr/local/lib/python3.11/dist-packages (from huggingface-hub>=0.28.1->gradio) (1.1.2)\n",
            "Requirement already satisfied: python-dateutil>=2.8.2 in /usr/local/lib/python3.11/dist-packages (from pandas<3.0,>=1.0->gradio) (2.9.0.post0)\n",
            "Requirement already satisfied: pytz>=2020.1 in /usr/local/lib/python3.11/dist-packages (from pandas<3.0,>=1.0->gradio) (2025.2)\n",
            "Requirement already satisfied: tzdata>=2022.7 in /usr/local/lib/python3.11/dist-packages (from pandas<3.0,>=1.0->gradio) (2025.2)\n",
            "Requirement already satisfied: annotated-types>=0.6.0 in /usr/local/lib/python3.11/dist-packages (from pydantic<2.12,>=2.0->gradio) (0.7.0)\n",
            "Requirement already satisfied: pydantic-core==2.33.2 in /usr/local/lib/python3.11/dist-packages (from pydantic<2.12,>=2.0->gradio) (2.33.2)\n",
            "Requirement already satisfied: typing-inspection>=0.4.0 in /usr/local/lib/python3.11/dist-packages (from pydantic<2.12,>=2.0->gradio) (0.4.1)\n",
            "Requirement already satisfied: click>=8.0.0 in /usr/local/lib/python3.11/dist-packages (from typer<1.0,>=0.12->gradio) (8.2.1)\n",
            "Requirement already satisfied: shellingham>=1.3.0 in /usr/local/lib/python3.11/dist-packages (from typer<1.0,>=0.12->gradio) (1.5.4)\n",
            "Requirement already satisfied: rich>=10.11.0 in /usr/local/lib/python3.11/dist-packages (from typer<1.0,>=0.12->gradio) (13.9.4)\n",
            "Requirement already satisfied: six>=1.5 in /usr/local/lib/python3.11/dist-packages (from python-dateutil>=2.8.2->pandas<3.0,>=1.0->gradio) (1.17.0)\n",
            "Requirement already satisfied: markdown-it-py>=2.2.0 in /usr/local/lib/python3.11/dist-packages (from rich>=10.11.0->typer<1.0,>=0.12->gradio) (3.0.0)\n",
            "Requirement already satisfied: pygments<3.0.0,>=2.13.0 in /usr/local/lib/python3.11/dist-packages (from rich>=10.11.0->typer<1.0,>=0.12->gradio) (2.19.1)\n",
            "Requirement already satisfied: charset-normalizer<4,>=2 in /usr/local/lib/python3.11/dist-packages (from requests->huggingface-hub>=0.28.1->gradio) (3.4.2)\n",
            "Requirement already satisfied: urllib3<3,>=1.21.1 in /usr/local/lib/python3.11/dist-packages (from requests->huggingface-hub>=0.28.1->gradio) (2.4.0)\n",
            "Requirement already satisfied: mdurl~=0.1 in /usr/local/lib/python3.11/dist-packages (from markdown-it-py>=2.2.0->rich>=10.11.0->typer<1.0,>=0.12->gradio) (0.1.2)\n"
          ]
        }
      ]
    },
    {
      "cell_type": "code",
      "metadata": {
        "colab": {
          "base_uri": "https://localhost:8080/",
          "height": 648
        },
        "id": "56a1b2c4",
        "outputId": "f1376af7-72d1-4ec5-9042-9b6122bd46c2"
      },
      "source": [
        "import gradio as gr\n",
        "import joblib\n",
        "import pandas as pd\n",
        "\n",
        "def predict_pitch_type(soil_moisture, soil_temperature, soil_compaction, grass_coverage):\n",
        "    \"\"\"\n",
        "    Predicts the pitch type based on input features.\n",
        "\n",
        "    Args:\n",
        "        soil_moisture (float): Soil moisture level.\n",
        "        soil_temperature (float): Soil temperature in Celsius.\n",
        "        soil_compaction (float): Soil compaction level.\n",
        "        grass_coverage (float): Percentage of grass coverage.\n",
        "\n",
        "    Returns:\n",
        "        str: Predicted pitch type (e.g., 'Batting Wicket', 'Bowling Wicket', 'Neutral').\n",
        "    \"\"\"\n",
        "    # Load the saved model and label encoder\n",
        "    loaded_model = joblib.load('pitch_prediction_model.pkl')\n",
        "    loaded_le = joblib.load('label_encoder.pkl')\n",
        "\n",
        "    # Create a DataFrame from the input data\n",
        "    input_data = pd.DataFrame([[soil_moisture, soil_temperature, soil_compaction, grass_coverage]],\n",
        "                              columns=['Soil Moisture', 'Soil Temperature', 'Soil Compaction', 'Grass Coverage'])\n",
        "\n",
        "    # Predict the encoded label\n",
        "    prediction_encoded = loaded_model.predict(input_data)\n",
        "\n",
        "    # Decode the predicted label\n",
        "    predicted_label = loaded_le.inverse_transform(prediction_encoded)\n",
        "\n",
        "    return predicted_label[0]\n",
        "\n",
        "# Create the Gradio interface\n",
        "interface = gr.Interface(\n",
        "    fn=predict_pitch_type,\n",
        "    inputs=[\n",
        "        gr.Slider(minimum=0, maximum=100, label=\"Soil Moisture\"),\n",
        "        gr.Slider(minimum=0, maximum=50, label=\"Soil Temperature (°C)\"),\n",
        "        gr.Slider(minimum=0, maximum=5, label=\"Soil Compaction\"),\n",
        "        gr.Slider(minimum=0, maximum=100, label=\"Grass Coverage (%)\")\n",
        "    ],\n",
        "    outputs=\"text\",\n",
        "    title=\"Pitch Type Prediction\",\n",
        "    description=\"Enter the pitch parameters to predict the pitch type.\"\n",
        ")\n",
        "\n",
        "# Launch the interface\n",
        "interface.launch()"
      ],
      "execution_count": null,
      "outputs": [
        {
          "output_type": "stream",
          "name": "stdout",
          "text": [
            "It looks like you are running Gradio on a hosted a Jupyter notebook. For the Gradio app to work, sharing must be enabled. Automatically setting `share=True` (you can turn this off by setting `share=False` in `launch()` explicitly).\n",
            "\n",
            "Colab notebook detected. To show errors in colab notebook, set debug=True in launch()\n",
            "* Running on public URL: https://84349d7f0e6526749c.gradio.live\n",
            "\n",
            "This share link expires in 1 week. For free permanent hosting and GPU upgrades, run `gradio deploy` from the terminal in the working directory to deploy to Hugging Face Spaces (https://huggingface.co/spaces)\n"
          ]
        },
        {
          "output_type": "display_data",
          "data": {
            "text/plain": [
              "<IPython.core.display.HTML object>"
            ],
            "text/html": [
              "<div><iframe src=\"https://84349d7f0e6526749c.gradio.live\" width=\"100%\" height=\"500\" allow=\"autoplay; camera; microphone; clipboard-read; clipboard-write;\" frameborder=\"0\" allowfullscreen></iframe></div>"
            ]
          },
          "metadata": {}
        },
        {
          "output_type": "execute_result",
          "data": {
            "text/plain": []
          },
          "metadata": {},
          "execution_count": 1
        }
      ]
    }
  ]
}