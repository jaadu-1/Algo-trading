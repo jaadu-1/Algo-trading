{
  "nbformat": 4,
  "nbformat_minor": 0,
  "metadata": {
    "colab": {
      "provenance": [],
      "authorship_tag": "ABX9TyPQTV8djavinFSHntRtczFB",
      "include_colab_link": true
    },
    "kernelspec": {
      "name": "python3",
      "display_name": "Python 3"
    },
    "language_info": {
      "name": "python"
    }
  },
  "cells": [
    {
      "cell_type": "markdown",
      "metadata": {
        "id": "view-in-github",
        "colab_type": "text"
      },
      "source": [
        "<a href=\"https://colab.research.google.com/github/jaadu-1/Algo-trading/blob/main/PitchPerfect.ipynb\" target=\"_parent\"><img src=\"https://colab.research.google.com/assets/colab-badge.svg\" alt=\"Open In Colab\"/></a>"
      ]
    },
    {
      "cell_type": "code",
      "execution_count": 1,
      "metadata": {
        "colab": {
          "base_uri": "https://localhost:8080/"
        },
        "id": "vTOURKBfHadU",
        "outputId": "82e2581b-0c93-49d5-a9f5-df477f1d7175"
      },
      "outputs": [
        {
          "output_type": "stream",
          "name": "stdout",
          "text": [
            "   Soil Moisture  Soil Temperature  Soil Compaction  Grass Coverage  \\\n",
            "0             35                28              1.1              20   \n",
            "1             45                30              1.3              25   \n",
            "2             50                32              1.5              15   \n",
            "3             25                26              0.9              40   \n",
            "4             40                29              1.2              35   \n",
            "\n",
            "            Label  \n",
            "0  Batting Wicket  \n",
            "1         Neutral  \n",
            "2  Bowling Wicket  \n",
            "3  Bowling Wicket  \n",
            "4         Neutral  \n"
          ]
        }
      ],
      "source": [
        "import pandas as pd\n",
        "\n",
        "# Load the CSV (you'll need to upload it first in Colab using the left panel)\n",
        "data = pd.read_csv('pitch_data.csv')\n",
        "\n",
        "\n",
        "# Show the first few rows\n",
        "print(data.head())"
      ]
    },
    {
      "cell_type": "code",
      "source": [
        "from sklearn.preprocessing import LabelEncoder\n",
        "\n",
        "# Make a copy of the original data\n",
        "df = data.copy()\n",
        "\n",
        "# Encode only the 'Label' column\n",
        "le_label = LabelEncoder()\n",
        "df['Label'] = le_label.fit_transform(df['Label'])\n",
        "\n",
        "# Show encoded DataFrame\n",
        "print(df)\n"
      ],
      "metadata": {
        "colab": {
          "base_uri": "https://localhost:8080/"
        },
        "id": "PQNScapvIbeS",
        "outputId": "522b19e9-8f9e-4911-c8e1-deefd2a1c86a"
      },
      "execution_count": 2,
      "outputs": [
        {
          "output_type": "stream",
          "name": "stdout",
          "text": [
            "   Soil Moisture  Soil Temperature  Soil Compaction  Grass Coverage  Label\n",
            "0             35                28              1.1              20      0\n",
            "1             45                30              1.3              25      2\n",
            "2             50                32              1.5              15      1\n",
            "3             25                26              0.9              40      1\n",
            "4             40                29              1.2              35      2\n",
            "5             30                27              1.0              30      0\n",
            "6             60                33              1.6              10      1\n",
            "7             42                31              1.3              22      2\n",
            "8             38                28              1.2              28      0\n",
            "9             55                34              1.4              12      1\n"
          ]
        }
      ]
    },
    {
      "cell_type": "code",
      "source": [
        "from sklearn.ensemble import RandomForestClassifier\n",
        "\n",
        "model = RandomForestClassifier(random_state=42)\n",
        "model.fit(X_train, y_train)\n",
        "y_pred = model.predict(X_test)\n",
        "\n",
        "# Evaluate with safe report\n",
        "present_labels = np.unique(y_test)\n",
        "print(\"Accuracy:\", accuracy_score(y_test, y_pred))\n",
        "print(\"\\nClassification Report:\\n\", classification_report(\n",
        "    y_test,\n",
        "    y_pred,\n",
        "    labels=present_labels,\n",
        "    target_names=le_label.inverse_transform(present_labels)\n",
        "))\n"
      ],
      "metadata": {
        "colab": {
          "base_uri": "https://localhost:8080/"
        },
        "id": "f7nBJdZUIwa3",
        "outputId": "6d762803-14a7-4365-e833-54908e58a762"
      },
      "execution_count": 6,
      "outputs": [
        {
          "output_type": "stream",
          "name": "stdout",
          "text": [
            "Accuracy: 0.5\n",
            "\n",
            "Classification Report:\n",
            "                 precision    recall  f1-score   support\n",
            "\n",
            "Batting Wicket       0.00      0.00      0.00         1\n",
            "       Neutral       0.50      1.00      0.67         1\n",
            "\n",
            "      accuracy                           0.50         2\n",
            "     macro avg       0.25      0.50      0.33         2\n",
            "  weighted avg       0.25      0.50      0.33         2\n",
            "\n"
          ]
        },
        {
          "output_type": "stream",
          "name": "stderr",
          "text": [
            "/usr/local/lib/python3.11/dist-packages/sklearn/metrics/_classification.py:1565: UndefinedMetricWarning: Precision is ill-defined and being set to 0.0 in labels with no predicted samples. Use `zero_division` parameter to control this behavior.\n",
            "  _warn_prf(average, modifier, f\"{metric.capitalize()} is\", len(result))\n",
            "/usr/local/lib/python3.11/dist-packages/sklearn/metrics/_classification.py:1565: UndefinedMetricWarning: Precision is ill-defined and being set to 0.0 in labels with no predicted samples. Use `zero_division` parameter to control this behavior.\n",
            "  _warn_prf(average, modifier, f\"{metric.capitalize()} is\", len(result))\n",
            "/usr/local/lib/python3.11/dist-packages/sklearn/metrics/_classification.py:1565: UndefinedMetricWarning: Precision is ill-defined and being set to 0.0 in labels with no predicted samples. Use `zero_division` parameter to control this behavior.\n",
            "  _warn_prf(average, modifier, f\"{metric.capitalize()} is\", len(result))\n"
          ]
        }
      ]
    }
  ]
}